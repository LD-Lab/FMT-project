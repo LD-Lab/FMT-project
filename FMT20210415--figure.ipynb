{
 "cells": [
  {
   "cell_type": "markdown",
   "metadata": {},
   "source": [
    "# function"
   ]
  },
  {
   "cell_type": "code",
   "execution_count": 5,
   "metadata": {
    "scrolled": true
   },
   "outputs": [
    {
     "name": "stderr",
     "output_type": "stream",
     "text": [
      "Warning message:\n",
      "\"package 'dplyr' was built under R version 3.6.3\"\n",
      "\n",
      "Attaching package: 'dplyr'\n",
      "\n",
      "\n",
      "The following objects are masked from 'package:stats':\n",
      "\n",
      "    filter, lag\n",
      "\n",
      "\n",
      "The following objects are masked from 'package:base':\n",
      "\n",
      "    intersect, setdiff, setequal, union\n",
      "\n",
      "\n",
      "Warning message:\n",
      "\"package 'ggplot2' was built under R version 3.6.3\"\n",
      "Warning message:\n",
      "\"package 'reshape2' was built under R version 3.6.3\"\n",
      "Warning message:\n",
      "\"package 'patchwork' was built under R version 3.6.2\"\n"
     ]
    }
   ],
   "source": [
    "source(\"F:/R file/DaiLab/wangying/FMT_project/figure_20210415/FMT_function20210415.R\")"
   ]
  },
  {
   "cell_type": "markdown",
   "metadata": {},
   "source": [
    "# FMT20210415.R"
   ]
  },
  {
   "cell_type": "markdown",
   "metadata": {},
   "source": [
    "## importing data and setting color for each group"
   ]
  },
  {
   "cell_type": "code",
   "execution_count": 34,
   "metadata": {},
   "outputs": [
    {
     "data": {
      "text/html": [],
      "text/latex": [],
      "text/markdown": [],
      "text/plain": [
       "character(0)"
      ]
     },
     "metadata": {},
     "output_type": "display_data"
    },
    {
     "data": {
      "image/png": "[encoded data removed]",
      "text/plain": [
       "plot without title"
      ]
     },
     "metadata": {
      "image/png": {
       "height": 420,
       "width": 420
      }
     },
     "output_type": "display_data"
    }
   ],
   "source": [
    "######  all figure in a paper order\n",
    "setwd(\"F:/R file/DaiLab/wangying/FMT_project\")\n",
    "####### change the tree file , and use rbiom::unifrac to replace the phyloseq\n",
    "## change color from red to orange.\n",
    "\n",
    "file_name=\"figure_20210415\"\n",
    "\n",
    "####### figure names\n",
    "## f for figure  + age + type , like f1 20m qpcr + metric\n",
    "## sf for supplementary figure\n",
    "\n",
    "### legend should be capital of the first alpha\n",
    "\n",
    "\n",
    "## standardized the variable names\n",
    "\n",
    "### remove some of the data like sample 1788\n",
    "\n",
    "##### figure 1 ,2 pcoa baseline use O2,OO,YO\n",
    "### figure 3 baseline use OO,YO\n",
    "###  all baseline change name to baseline, in the significant ploting, different from 0910\n",
    "\n",
    "#--------------\n",
    "##### import data and preprocessing for 16S (no submit ) -------\n",
    "meta <- read.csv(\"metadata_all.csv\",header = T,row.names=1,na.strings = \"\",fill = TRUE,stringsAsFactors = FALSE)\n",
    "meta$DSS <- as.factor(meta$DSS)\n",
    "meta$treatment <- as.factor(meta$treatment)\n",
    "\n",
    "# otu0 <-read.csv(\"feature_table_all.csv\",header = T, row.names = 1)\n",
    "# otu <- otu_filter(otu0,1/1000,0) \n",
    "\n",
    "# write.csv(otu,\"feature_table_all_filter.csv\")\n",
    "otu= read.csv(\"feature_table_all_filter.csv\",header = T, row.names = 1)\n",
    "\n",
    "otu <- otu[,intersect(rownames(meta),colnames(otu))]\n",
    "\n",
    "\n",
    "\n",
    "tax0 <- read.csv(\"taxonomy_all.csv\",header = T,row.names = 1,na.strings = \"\",\n",
    "                 fill = TRUE,stringsAsFactors = FALSE)\n",
    "tax <- tax0[rownames(otu),]\n",
    "tax= tax_detail(tax)\n",
    "\n",
    "\n",
    "\n",
    "\n",
    "otu <- otu[rownames(tax),]\n",
    "meta[is.na(meta)] <- -100\n",
    "trefile <- read_tree(\"tree_all.nwk\")\n",
    "meta$donor2acceptor <- factor(meta$donor2acceptor,\n",
    "                              levels = c(\"OD\",\"YD\",\"Y0\",\"O0\",\"Y2\",\"O2\",\"YY\",\"OY\",\"OO\",\"YO\",\"DSS2\",\"DSS18\",\n",
    "                                         \"Y3\",\"O3\",\"M0\",\"M2\",\"M3\"))\n",
    "meta= meta[-which(meta$id %in% c(55,56,1788,1784)),]\n",
    "\n",
    "\n",
    "\n",
    "### tree refine\n",
    "trefile=ape::drop.tip(trefile,setdiff(trefile$tip.label,rownames(otu)))\n",
    "otu=otu[intersect(rownames(otu),trefile$tip.label),]\n",
    "\n",
    "setdiff(trefile$tip.label,rownames(otu))\n",
    "\n",
    "\n",
    "phylo_all <- phyloseq(otu_table(t(otu), taxa_are_rows = F),\n",
    "                      sample_data(meta),tax_table(as.matrix(tax)),\n",
    "                      phy_tree(trefile))\n",
    "\n",
    "refined_data=list(meta=meta,otu=otu,tax=tax)\n",
    "#######color data---------\n",
    "# rgb2hsv(col2rgb(\"#F8766D\"))\n",
    "# rgb2hsv(col2rgb(\"orange\"))\n",
    "\n",
    "color_db <- na.omit(data.frame(donor2acceptor=unique(meta$donor2acceptor),value=\"0\",test=1,stringsAsFactors = FALSE))\n",
    "color_db$donor2acceptor = as.character(color_db$donor2acceptor) \n",
    "color_db[color_db$donor2acceptor==\"O2\",\"value\"] <- hsv(0,1,1)\n",
    "color_db[color_db$donor2acceptor==\"O3\",\"value\"] <- hsv(0.9,0.6,1)\n",
    "color_db[color_db$donor2acceptor==\"Y2\",\"value\"] <- \"#F8766D\"\n",
    "color_db[color_db$donor2acceptor==\"Y3\",\"value\"] <- hsv(0.01,0.3,0.6)\n",
    "color_db[color_db$donor2acceptor==\"M2\",\"value\"] <-  \"#00BA38\"# green\n",
    "color_db[color_db$donor2acceptor==\"M3\",\"value\"] <- hsv(0.60,0.5,0.5)\n",
    "\n",
    "color_db[color_db$donor2acceptor==\"OO\",\"value\"] <- \"purple\" #purple\n",
    "color_db[\"OO_DSS\",]=c(\"OO_DSS\",hsv(0.1,0.5,0.5),1)\n",
    "\n",
    "color_db[color_db$donor2acceptor==\"YO\",\"value\"] <-hsv(0.6,1,1)\n",
    "color_db[\"YO_DSS\",]=c(\"YO_DSS\",hsv(0.10,1,1),1)  ## \"orange\"\n",
    "# \"#ADADAD\"  gray\n",
    "color_db[color_db$donor2acceptor==\"O0\"|color_db$donor2acceptor==\"Y0\"|color_db$donor2acceptor==\"M0\"\n",
    "         ,\"value\"] <- \"black\"\n",
    "color_db[color_db$donor2acceptor==\"OD\"|color_db$donor2acceptor==\"YD\",\"value\"] <- \"black\"\n",
    "color_db$donor2acceptor <- factor(color_db$donor2acceptor,\n",
    "                                  levels = c(\"YD\",\"OD\",\"Y0\",\"O0\",\"Y2\",\"O2\",\"OO\",\"YO\",\n",
    "                                             \"Y3\",\"O3\",\"M0\",\"M2\",\"M3\",\"OO_DSS\",\"YO_DSS\"))\n",
    "color_db <- na.omit(color_db)\n",
    "rownames(color_db) <- color_db$donor2acceptor\n",
    "color_db <- color_db[order(color_db$donor2acceptor),]\n",
    "ggplot(color_db,aes(donor2acceptor,test,color=donor2acceptor))+\n",
    "  geom_point(size=10)+ scale_color_manual(values = color_db$value)\n"
   ]
  },
  {
   "cell_type": "markdown",
   "metadata": {},
   "source": [
    "## QPCR"
   ]
  },
  {
   "cell_type": "code",
   "execution_count": 8,
   "metadata": {},
   "outputs": [
    {
     "name": "stderr",
     "output_type": "stream",
     "text": [
      "Joining, by = c(\"pval\", \"sig_label\", \"mix\", \"position\", \"timeFMT\")\n",
      "\n",
      "Joining, by = c(\"pval\", \"sig_label\", \"mix\", \"position\", \"timeFMT\")\n",
      "\n",
      "Joining, by = \"mix\"\n",
      "\n",
      "Joining, by = \"mix\"\n",
      "\n"
     ]
    },
    {
     "data": {
      "image/png": "[encoded data removed]",
      "text/plain": [
       "plot without title"
      ]
     },
     "metadata": {
      "image/png": {
       "height": 420,
       "width": 420
      }
     },
     "output_type": "display_data"
    }
   ],
   "source": [
    "#### f1 qpcr -------------------\n",
    "##### Old group\n",
    "qpcr <- read.csv(\"QPCR/qPCR_data.csv\")\n",
    "\n",
    "qpcr$donor2acceptor <- factor(qpcr$donor2acceptor,\n",
    "                              levels = c(\"O0\",\"O2\",\"O3\"))\n",
    "# qpcr=add_mix(qpcr,group = \"donor2acceptor\",time=\"timeFMT\")\n",
    "\n",
    "p<-errorbar_line_plot(df=qpcr,var1 = \"donor2acceptor\",var1_sub = c(\"O0\",\"O2\",\"O3\"),\n",
    "                      group = \"donor2acceptor\",time=\"timeFMT\",signifi = TRUE,line=\"age\",\n",
    "                      sig_com = list(c(\"O0\",\"O2\"),c(\"O0\",\"O3\"))) +\n",
    "  scale_color_manual(values =color_db[c(\"O0\",\"O2\",\"O3\"),\"value\"],name=\"Treatment\",\n",
    "                     breaks = c(\"O0\",\"O2\",\"O3\"),labels=c(\"Ctrl\",\"ABH\",\"ABL\"))+\n",
    "  labs(title=\"20 months\",y=\"Bacterial load\",x=\"Day\")+\n",
    "  guides(linetype=\"none\")+\n",
    "  # scale_linetype_manual(values=c( \"solid\"))+\n",
    "  scale_x_continuous(breaks=c(0,1,4,7,14,21,28,35,42))\n",
    "p"
   ]
  },
  {
   "cell_type": "markdown",
   "metadata": {},
   "source": [
    "## slpha diversity"
   ]
  },
  {
   "cell_type": "code",
   "execution_count": 9,
   "metadata": {},
   "outputs": [
    {
     "name": "stderr",
     "output_type": "stream",
     "text": [
      "Joining, by = c(\"pval\", \"sig_label\", \"mix\", \"position\", \"timeFMT\")\n",
      "\n",
      "Joining, by = c(\"pval\", \"sig_label\", \"mix\", \"position\", \"timeFMT\")\n",
      "\n",
      "Joining, by = c(\"pval\", \"sig_label\", \"mix\", \"position\", \"timeFMT\")\n",
      "\n",
      "Joining, by = c(\"pval\", \"sig_label\", \"mix\", \"position\", \"timeFMT\")\n",
      "\n"
     ]
    },
    {
     "data": {
      "image/png": "[encoded data removed]",
      "text/plain": [
       "plot without title"
      ]
     },
     "metadata": {
      "image/png": {
       "height": 420,
       "width": 420
      }
     },
     "output_type": "display_data"
    },
    {
     "data": {
      "image/png": "[encoded data removed]",
      "text/plain": [
       "plot without title"
      ]
     },
     "metadata": {
      "image/png": {
       "height": 420,
       "width": 420
      }
     },
     "output_type": "display_data"
    },
    {
     "data": {
      "text/plain": [
       "[[1]]\n",
       "\n",
       "[[2]]\n"
      ]
     },
     "metadata": {},
     "output_type": "display_data"
    },
    {
     "data": {
      "image/png": "[encoded data removed]",
      "text/plain": [
       "plot without title"
      ]
     },
     "metadata": {
      "image/png": {
       "height": 420,
       "width": 420
      }
     },
     "output_type": "display_data"
    },
    {
     "data": {
      "image/png": "[encoded data removed]",
      "text/plain": [
       "plot without title"
      ]
     },
     "metadata": {
      "image/png": {
       "height": 420,
       "width": 420
      }
     },
     "output_type": "display_data"
    }
   ],
   "source": [
    "#### figure1 C  alpha diversity -----------\n",
    "########* O group -------\n",
    "phylo1 = phylo1_get(phylo_all,meta=refined_data$meta,var1 = \"donor2acceptor\",\n",
    "                    var1_sub = c(\"Y2\",\"O2\",\"O0\",\"Y0\",\"Y3\",\"O3\"),var2 = \"timeFMT\",\n",
    "                    var2_sub = c(0,1,4,7,14,21,28,35,42,49,56))\n",
    "\n",
    "\n",
    "\n",
    "\n",
    "\n",
    "p1 <-  alpha_plot2(phylo_ls=phylo1,meta=meta,xlab=\"timeFMT\",color_col = \"donor2acceptor\",line = \"age\",\n",
    "                   var1 = \"donor2acceptor\",var1_sub = c(\"O0\",\"O2\",\"O3\"),time = \"timeFMT\",\n",
    "                   group=\"donor2acceptor\",average = TRUE,sig_com = list(c(\"O0\",\"O2\"),c(\"O0\",\"O3\")),\n",
    "                   title_name = \"\",measure = \"Observed\",scale=0.1,label_size = 5)+\n",
    "  scale_color_manual(values =color_db[c(\"O0\",\"O2\",\"O3\"),\"value\"],\n",
    "                     name=\"treatment\",\n",
    "                     breaks = c(\"O0\",\"O2\",\"O3\"),\n",
    "                     labels=c(\"Ctrl\",\"ABH\",\"ABL\"))+\n",
    "  guides(linetype=\"none\")+\n",
    "  labs(title = \"20 months \",x=\"Day\",y=\"Observed Species\")+\n",
    "  scale_linetype_manual(values=c( \"solid\"))+\n",
    "  scale_x_continuous(breaks=c(0,1,4,7,14,21,28,35,42,49,56))\n",
    "\n",
    "\n",
    "# h=p1$data\n",
    "p1\n",
    "\n",
    "p2 <- alpha_plot2(phylo1,meta=refined_data$meta,xlab=\"timeFMT\",color_col = \"donor2acceptor\",line = \"age\",\n",
    "                  var1 = \"donor2acceptor\",var1_sub = c(\"O0\",\"O2\",\"O3\"),time = \"timeFMT\",\n",
    "                  group=\"donor2acceptor\",average = TRUE,sig_com = list(c(\"O0\",\"O2\"),c(\"O0\",\"O3\")),\n",
    "                  title_name = \"\",measure = \"Shannon\",scale=0.1,label_size = 5)+\n",
    "  scale_color_manual(values =color_db[c(\"O0\",\"O2\",\"O3\"),\"value\"],\n",
    "                     name=\"treatment\",\n",
    "                     breaks = c(\"O0\",\"O2\",\"O3\"),\n",
    "                     labels=c(\"Ctrl\",\"ABH\",\"ABL\"))+\n",
    "  guides(linetype=\"none\")+\n",
    "  labs(title = \"20 months \",x=\"Day\",y=\"Shannon Index\")+\n",
    "  scale_linetype_manual(values=c( \"solid\"))+\n",
    "  scale_x_continuous(breaks=c(0,1,4,7,14,21,28,35,42,49,56))\n",
    "\n",
    "\n",
    "p1/p2 +plot_layout(guides = \"collect\")\n",
    "\n",
    "p = list(p1,p2)\n",
    "p"
   ]
  },
  {
   "cell_type": "markdown",
   "metadata": {},
   "source": [
    "## HUMAnN2"
   ]
  },
  {
   "cell_type": "code",
   "execution_count": 39,
   "metadata": {},
   "outputs": [],
   "source": [
    "########## figure3 D humann2 ##########################################\n",
    "###########import data\n",
    "# setwd(\"F:/R file/DaiLab/wangying/metagenome/humann2\")\n",
    "library(dplyr)\n",
    "pathway = read.csv(\"humann2/pathway_refine.csv\",row.names = 1)\n",
    "\n",
    "# pathway1  = read.csv(\"F:/R file/DaiLab/wangying/metagenome/humann2/pathway_refine.csv\",row.names = 1)\n",
    "# pathway1 = data.frame(prim=rownames(pathway1),split= sapply(str_split(rownames(pathway1),\": \"),\"[\",2))\n",
    "\n",
    "rownames(pathway) <- sapply(str_split(rownames(pathway),\": \"),\"[\",2)\n",
    "\n",
    "\n",
    "pathway_norm = sweep(pathway,2,colSums(pathway),\"/\")\n",
    "\n",
    "\n",
    "\n",
    "meta <- read.csv(\"humann2/meta_genome.csv\",\n",
    "                 row.names = 1,stringsAsFactors = FALSE)\n",
    "\n",
    "meta[is.na(meta)] <- -100\n",
    "meta<- subset(meta,rownames(meta)%in% colnames(pathway_norm))\n",
    "\n",
    "\n",
    "meta$mix=paste(meta$donor2acceptor,meta$timeFMT,sep = \"_\")\n",
    "\n",
    "humann2_list=list(meta=meta,pathway_norm=pathway_norm)\n",
    "\n"
   ]
  },
  {
   "cell_type": "markdown",
   "metadata": {},
   "source": [
    "### pcoa bray-curtis"
   ]
  },
  {
   "cell_type": "code",
   "execution_count": 40,
   "metadata": {},
   "outputs": [
    {
     "data": {
      "text/html": [
       "<style>\n",
       ".list-inline {list-style: none; margin:0; padding: 0}\n",
       ".list-inline>li {display: inline-block}\n",
       ".list-inline>li:not(:last-child)::after {content: \"\\00b7\"; padding: 0 .5ex}\n",
       "</style>\n",
       "<ol class=list-inline><li>'O2'</li><li>'OD'</li><li>'OO'</li><li>'OY'</li><li>'YO'</li><li>'YD'</li><li>'YY'</li></ol>\n"
      ],
      "text/latex": [
       "\\begin{enumerate*}\n",
       "\\item 'O2'\n",
       "\\item 'OD'\n",
       "\\item 'OO'\n",
       "\\item 'OY'\n",
       "\\item 'YO'\n",
       "\\item 'YD'\n",
       "\\item 'YY'\n",
       "\\end{enumerate*}\n"
      ],
      "text/markdown": [
       "1. 'O2'\n",
       "2. 'OD'\n",
       "3. 'OO'\n",
       "4. 'OY'\n",
       "5. 'YO'\n",
       "6. 'YD'\n",
       "7. 'YY'\n",
       "\n",
       "\n"
      ],
      "text/plain": [
       "[1] \"O2\" \"OD\" \"OO\" \"OY\" \"YO\" \"YD\" \"YY\""
      ]
     },
     "metadata": {},
     "output_type": "display_data"
    },
    {
     "name": "stderr",
     "output_type": "stream",
     "text": [
      "Scale for 'size' is already present. Adding another scale for 'size', which\n",
      "will replace the existing scale.\n",
      "\n"
     ]
    },
    {
     "data": {
      "text/html": [
       "<style>\n",
       ".list-inline {list-style: none; margin:0; padding: 0}\n",
       ".list-inline>li {display: inline-block}\n",
       ".list-inline>li:not(:last-child)::after {content: \"\\00b7\"; padding: 0 .5ex}\n",
       "</style>\n",
       "<ol class=list-inline><li>O2</li><li>OD</li><li>OO</li><li>YD</li><li>YO</li><li>O2</li><li>O2</li><li>O2</li><li>O2</li><li>O2</li><li>OO</li><li>OO</li><li>OO</li><li>OO</li><li>YO</li><li>YO</li><li>YO</li><li>YO</li><li>YO</li><li>O2</li><li>OD</li><li>OO</li><li>YD</li><li>YO</li><li>O2</li><li>O2</li><li>O2</li><li>O2</li><li>O2</li><li>OO</li><li>OO</li><li>OO</li><li>OO</li><li>YO</li><li>YO</li><li>YO</li><li>YO</li><li>YO</li></ol>\n",
       "\n",
       "<details>\n",
       "\t<summary style=display:list-item;cursor:pointer>\n",
       "\t\t<strong>Levels</strong>:\n",
       "\t</summary>\n",
       "\t<style>\n",
       "\t.list-inline {list-style: none; margin:0; padding: 0}\n",
       "\t.list-inline>li {display: inline-block}\n",
       "\t.list-inline>li:not(:last-child)::after {content: \"\\00b7\"; padding: 0 .5ex}\n",
       "\t</style>\n",
       "\t<ol class=list-inline><li>'YO'</li><li>'OO'</li><li>'O2'</li><li>'OD'</li><li>'YD'</li></ol>\n",
       "</details>"
      ],
      "text/latex": [
       "\\begin{enumerate*}\n",
       "\\item O2\n",
       "\\item OD\n",
       "\\item OO\n",
       "\\item YD\n",
       "\\item YO\n",
       "\\item O2\n",
       "\\item O2\n",
       "\\item O2\n",
       "\\item O2\n",
       "\\item O2\n",
       "\\item OO\n",
       "\\item OO\n",
       "\\item OO\n",
       "\\item OO\n",
       "\\item YO\n",
       "\\item YO\n",
       "\\item YO\n",
       "\\item YO\n",
       "\\item YO\n",
       "\\item O2\n",
       "\\item OD\n",
       "\\item OO\n",
       "\\item YD\n",
       "\\item YO\n",
       "\\item O2\n",
       "\\item O2\n",
       "\\item O2\n",
       "\\item O2\n",
       "\\item O2\n",
       "\\item OO\n",
       "\\item OO\n",
       "\\item OO\n",
       "\\item OO\n",
       "\\item YO\n",
       "\\item YO\n",
       "\\item YO\n",
       "\\item YO\n",
       "\\item YO\n",
       "\\end{enumerate*}\n",
       "\n",
       "\\emph{Levels}: \\begin{enumerate*}\n",
       "\\item 'YO'\n",
       "\\item 'OO'\n",
       "\\item 'O2'\n",
       "\\item 'OD'\n",
       "\\item 'YD'\n",
       "\\end{enumerate*}\n"
      ],
      "text/markdown": [
       "1. O2\n",
       "2. OD\n",
       "3. OO\n",
       "4. YD\n",
       "5. YO\n",
       "6. O2\n",
       "7. O2\n",
       "8. O2\n",
       "9. O2\n",
       "10. O2\n",
       "11. OO\n",
       "12. OO\n",
       "13. OO\n",
       "14. OO\n",
       "15. YO\n",
       "16. YO\n",
       "17. YO\n",
       "18. YO\n",
       "19. YO\n",
       "20. O2\n",
       "21. OD\n",
       "22. OO\n",
       "23. YD\n",
       "24. YO\n",
       "25. O2\n",
       "26. O2\n",
       "27. O2\n",
       "28. O2\n",
       "29. O2\n",
       "30. OO\n",
       "31. OO\n",
       "32. OO\n",
       "33. OO\n",
       "34. YO\n",
       "35. YO\n",
       "36. YO\n",
       "37. YO\n",
       "38. YO\n",
       "\n",
       "\n",
       "\n",
       "**Levels**: 1. 'YO'\n",
       "2. 'OO'\n",
       "3. 'O2'\n",
       "4. 'OD'\n",
       "5. 'YD'\n",
       "\n",
       "\n"
      ],
      "text/plain": [
       " [1] O2 OD OO YD YO O2 O2 O2 O2 O2 OO OO OO OO YO YO YO YO YO O2 OD OO YD YO O2\n",
       "[26] O2 O2 O2 O2 OO OO OO OO YO YO YO YO YO\n",
       "Levels: YO OO O2 OD YD"
      ]
     },
     "metadata": {},
     "output_type": "display_data"
    },
    {
     "name": "stderr",
     "output_type": "stream",
     "text": [
      "Scale for 'shape' is already present. Adding another scale for 'shape', which\n",
      "will replace the existing scale.\n",
      "\n"
     ]
    },
    {
     "data": {
      "image/png": "[encoded data removed]",
      "text/plain": [
       "plot without title"
      ]
     },
     "metadata": {
      "image/png": {
       "height": 420,
       "width": 420
      }
     },
     "output_type": "display_data"
    }
   ],
   "source": [
    "####*pcoa bray-curtis -----\n",
    "meta$mix = paste(meta$donor2acceptor,meta$timeFMT,sep = \"_\")\n",
    "res= add_group_mean(counts=pathway_norm,meta,time = \"timeFMT\",group = \"donor2acceptor\",\n",
    "                    mean_second = list(c(\"OO\",\"YO\",\"O2\"),c(\"YY\",\"OY\")),remove_baseline1 = TRUE)\n",
    "\n",
    "pathway_norm2=res$counts\n",
    "\n",
    "meta2 = res$meta\n",
    "\n",
    "metric=\"bray\"\n",
    "all = pcoa_product(pathway_norm2,meta2,metric=metric)\n",
    "\n",
    "\n",
    "data_ord=all$data_ord\n",
    "pcoa=all$pcoa\n",
    "unique(data_ord$donor2acceptor)\n",
    "\n",
    "\n",
    "data_ord$donor2acceptor<-factor(data_ord$donor2acceptor,levels=c(\"YO\",\"OO\",\"O2\",\"OD\",\"YD\"))\n",
    "\n",
    "data_ord = data_ord[-which(rownames(data_ord) %in% c(\"YY_0~mean\",\"OY_0~mean\")),]\n",
    "\n",
    "data_ord[c(\"O2_0~mean\",\"OO_0~mean\",\"YO_0~mean\"),c(\"pc1\",\"pc2\",\"pc3\")]=data_ord[\"OD\",c(\"pc1\",\"pc2\",\"pc3\")]\n",
    "### add mean baseline \n",
    "p=pcoa_plot_size(data_ord,pcoa,metric=metric,title_name = \"PCoA--humann2--pathway\",size=\"timeFMT\",\n",
    "                 color = \"donor2acceptor\",shape = \"donor2acceptor\",shape_sub = c(21,22),\n",
    "                 text=\"timeFMT\")+ scale_fill_manual(values = color_db[c(\"YO\",\"OO\",\"O2\",\"OD\",\"YD\"),\"value\"])+\n",
    "  scale_color_manual(values = color_db[c(\"YO\",\"OO\",\"O2\",\"OD\",\"YD\"),\"value\"])+\n",
    "  scale_size_continuous(range=c(5,12),breaks = c(0,56),labels = c(0,56))\n",
    "\n",
    "\n",
    "data1 <- data_ord[data_ord$donor2acceptor==\"YD\",]\n",
    "data2 <- data_ord[data_ord$donor2acceptor==\"OD\",]\n",
    "\n",
    "data_mix <-rbind(data1,data2) \n",
    "data_mix$donor2acceptor <-  factor(data_mix$donor2acceptor,\n",
    "                                   levels = c(\"YO\",\"OO\",\"O2\",\"OD\",\"YD\"))\n",
    "\n",
    "p_data_mean=p$data \n",
    "p_data_mean[,c(\"pc1\",\"pc2\")]=p_data_mean[,c(\"pc1_mean\",\"pc2_mean\")]\n",
    "\n",
    "new_data=rbind(p$data,p_data_mean)\n",
    "\n",
    "new_data$donor2acceptor\n",
    "\n",
    "\n",
    "p1=p+  geom_point(data=p$data,aes(pc1,pc2,color=p$data$donor2acceptor),size=3,alpha=0.5) +\n",
    "  geom_line(data=new_data,aes(pc1,pc2,group=new_data$Row.names,color=new_data$donor2acceptor),\n",
    "            size=0.5,alpha=0.5)+\n",
    "  geom_point(data=data_mix,aes(x=pc1,y=pc2,shape=data_mix[,\"donor2acceptor\"]),\n",
    "                 stroke=5,size=10)+ scale_shape_manual(values = c(4,3))+\n",
    "  labs(fill=\"Treatment\")+\n",
    "  guides(color=\"none\")\n",
    " \n",
    "  \n",
    "# stat_ellipse(data=p$data,show.legend = FALSE,aes(x=pc1,y=pc2,fill=donor2acceptor),\n",
    "#              geom = \"polygon\",\n",
    "#              alpha=0.2,level = 0.95) \n",
    "\n",
    "\n",
    "p1"
   ]
  },
  {
   "cell_type": "markdown",
   "metadata": {},
   "source": [
    "### pathway heatmap"
   ]
  },
  {
   "cell_type": "code",
   "execution_count": 33,
   "metadata": {},
   "outputs": [
    {
     "data": {
      "text/html": [
       "<style>\n",
       ".list-inline {list-style: none; margin:0; padding: 0}\n",
       ".list-inline>li {display: inline-block}\n",
       ".list-inline>li:not(:last-child)::after {content: \"\\00b7\"; padding: 0 .5ex}\n",
       "</style>\n",
       "<ol class=list-inline><li>'O2_56'</li><li>'YO_56'</li><li>'OO_56'</li><li>'O2_0'</li><li>'YD'</li><li>'OD'</li></ol>\n"
      ],
      "text/latex": [
       "\\begin{enumerate*}\n",
       "\\item 'O2\\_56'\n",
       "\\item 'YO\\_56'\n",
       "\\item 'OO\\_56'\n",
       "\\item 'O2\\_0'\n",
       "\\item 'YD'\n",
       "\\item 'OD'\n",
       "\\end{enumerate*}\n"
      ],
      "text/markdown": [
       "1. 'O2_56'\n",
       "2. 'YO_56'\n",
       "3. 'OO_56'\n",
       "4. 'O2_0'\n",
       "5. 'YD'\n",
       "6. 'OD'\n",
       "\n",
       "\n"
      ],
      "text/plain": [
       "[1] \"O2_56\" \"YO_56\" \"OO_56\" \"O2_0\"  \"YD\"    \"OD\"   "
      ]
     },
     "metadata": {},
     "output_type": "display_data"
    },
    {
     "name": "stderr",
     "output_type": "stream",
     "text": [
      "Joining, by = c(\"variable\", \"path\", \"value\", \"mix\", \"age\", \"comparison\", \"pval\", \"se_value\", \"sig_label\")\n",
      "\n"
     ]
    },
    {
     "data": {
      "image/png": "[encoded data removed]",
      "text/plain": [
       "plot without title"
      ]
     },
     "metadata": {
      "image/png": {
       "height": 420,
       "width": 420
      }
     },
     "output_type": "display_data"
    }
   ],
   "source": [
    "####* pathway heatmap ---------\n",
    "#########metacyc  calculate the level7 and find the difference with wilcox test\n",
    "\n",
    "metric=\"bray\"\n",
    "pathway3 = pathway\n",
    "pathway3$path=rownames(pathway)\n",
    "\n",
    "p_melt= reshape2::melt(data = pathway3,id.vars=\"path\")\n",
    "p_melt = merge(p_melt,meta[,c(\"mix\",\"age\")],by.x=\"variable\",by.y=\"row.names\")\n",
    "p_melt[p_melt$mix %in% c(\"YY_0\",\"OY_0\"),\"mix\"]=\"YD\"\n",
    "p_melt[p_melt$mix %in% c(\"OO_0\",\"YO_0\"),\"mix\"]=\"OD\"\n",
    "unique(p_melt$mix)\n",
    "p_melt$mix= factor(p_melt$mix,levels = c(\"YD\",\"OD\",\"O2_56\",\"OO_56\",\"YO_56\"))\n",
    "p_melt=na.omit(p_melt)\n",
    "\n",
    "p_melt1=p_melt\n",
    "# group_list=list(c(\"OD\",\"YO_56\"),c(\"OD\",\"OO_56\"),c(\"OD\",\"O2_56\"))\n",
    "\n",
    "group_list=list(c(\"OD\",\"O2_56\"))  ## pathway difference based on OD and day 56\n",
    "\n",
    "for (i in 1:length(group_list)) {\n",
    "  \n",
    "  p_melt1=sig_table_get(df=p_melt1,time=\"path\",group = \"mix\",group_base = group_list[[i]][1],\n",
    "                        group_change =  group_list[[i]][2])\n",
    "  p_melt1=padjust_get(p_melt1,time=\"path\")\n",
    "}\n",
    "\n",
    "\n",
    "### p_adjust 0.05\n",
    "\n",
    "pmelt2= na.omit(p_melt1) %>%\n",
    "  filter(p_adjust <0.05)\n",
    "\n",
    "###get the DEP pathway for heatmap\n",
    "path_diff= unique(pmelt2[,c(\"path\",\"age\")])\n",
    "rownames(path_diff)= path_diff$path\n",
    "\n",
    "res=add_group_mean(counts = pathway,meta=meta,time = \"timeFMT\",\n",
    "                   mean_second = list(c(\"YO\",\"OO\"),c(\"YY\",\"OY\")),\n",
    "                   remove_baseline1=TRUE,remove_baseline2=TRUE,\n",
    "                   group = \"mix\")\n",
    "\n",
    "pathway1= res$counts\n",
    "meta1=res$meta\n",
    "meta1$mix=factor(meta1$mix,levels = c(\"YD\",\"OD\",\"O2_56\",\"OO_56\",\"YO_56\"))\n",
    "\n",
    "#rowSums(pathway1)\n",
    "\n",
    "meta1 = meta1[order(meta1$mix),]\n",
    "\n",
    "\n",
    "\n",
    "p=pheatmap_plot(counts = pathway1,meta = meta1 ,DEG = path_diff,nchar=100,cluster_cols = FALSE,\n",
    "                title_name = \"pathway difference based on OD and O2_56 \",Annotation = TRUE,\n",
    "                scale=\"row\",\n",
    "                row_colors = color_db[c(\"Y2\",\"O0\",\"O2\",\"OO\",\"YO\"),\"value\"])\n",
    "\n",
    "p"
   ]
  },
  {
   "cell_type": "markdown",
   "metadata": {},
   "source": [
    "### LEFSE"
   ]
  },
  {
   "cell_type": "code",
   "execution_count": null,
   "metadata": {},
   "outputs": [],
   "source": []
  },
  {
   "cell_type": "code",
   "execution_count": 15,
   "metadata": {},
   "outputs": [
    {
     "data": {
      "image/png": "[encoded data removed]",
      "text/plain": [
       "plot without title"
      ]
     },
     "metadata": {
      "image/png": {
       "height": 420,
       "width": 420
      }
     },
     "output_type": "display_data"
    }
   ],
   "source": [
    "##########* lefse O0 vs Yo ---------\n",
    "lefse_data=read.csv(\"lefse/lefse_data_ctrl_O0_Y0/R_result.csv\",\n",
    "                    row.names = 1)\n",
    "lefse_data$group=as.factor(lefse_data$group)\n",
    "lefse_data$taxonomy=factor(lefse_data$taxonomy,level=lefse_data$taxonomy)\n",
    "\n",
    "p <- ggplot(lefse_data,aes(x=taxonomy,y=lefse_score,fill=group,color=group))+\n",
    "  #facet_grid(cols = vars(res3[,\"group\"]),scale=\"free\")+\n",
    "  geom_bar(stat = \"identity\") + \n",
    "  scale_color_manual(values = c(\"black\",\"black\")) +\n",
    "  scale_fill_manual(values=c(\"black\",\"white\"))+\n",
    "  coord_flip()+ labs(title=\"lefse O0 vs Yo\")+\n",
    "  theme( panel.grid.minor = element_blank(),\n",
    "         panel.background = element_blank(),panel.border = element_blank(),\n",
    "         axis.line = element_line(colour = \"black\",linetype=\"solid\",size = 1),\n",
    "         panel.grid.major=element_line(colour=NA),axis.text=element_text(size = 15, face= \"bold\",family = \"\"),\n",
    "         legend.text = element_text(size = 10),legend.title = element_text(size=15),axis.title=element_text(size=15))\n",
    "p\n"
   ]
  },
  {
   "cell_type": "markdown",
   "metadata": {},
   "source": [
    "## DAI"
   ]
  },
  {
   "cell_type": "code",
   "execution_count": 36,
   "metadata": {},
   "outputs": [
    {
     "name": "stderr",
     "output_type": "stream",
     "text": [
      "Joining, by = c(\"pval\", \"sig_label\", \"mix\", \"position\", \"timeFMT\")\n",
      "\n",
      "Joining, by = \"mix\"\n",
      "\n"
     ]
    },
    {
     "data": {
      "image/png": "[encoded data removed]",
      "text/plain": [
       "plot without title"
      ]
     },
     "metadata": {
      "image/png": {
       "height": 420,
       "width": 420
      }
     },
     "output_type": "display_data"
    }
   ],
   "source": [
    "##### figure5 D DAI -------\n",
    "dai <- read.csv(\"weight_DAI/FMT_DSS_DAI.csv\")\n",
    "dai$value<- as.numeric(dai$value)\n",
    "\n",
    "dai <- na.omit(dai)\n",
    "\n",
    "p <- errorbar_line_plot(df=dai,var1 = \"donor2acceptor\",var1_sub = c(\"YO\",\"OO\"),\n",
    "                        group = \"donor2acceptor\",time=\"timeFMT\",signifi = TRUE,sig_com = list(c(\"YO\",\"OO\")))+\n",
    "  scale_color_manual(values =color_db[c(\"YO\",\"OO\"),\"value\"] )+labs(y=\"DAI\")+\n",
    "  labs(x=\"Day\")\n",
    "\n",
    "# p$data[p$data$timeFMT!=14,\"pval\"]<-NA\n",
    "# p$data$pval <- round(p$data$pval,3)\n",
    "\n",
    "p1 <- p +\n",
    "  # geom_text(aes(y=position+2 ,label=pval),size=5) +\n",
    "     geom_point(aes(x=p$data$timeFMT-p$data$Dodge),size=3,shape=21,fill=\"white\",stroke=2)\n",
    "\n",
    "p1\n"
   ]
  },
  {
   "cell_type": "markdown",
   "metadata": {},
   "source": [
    "## weight"
   ]
  },
  {
   "cell_type": "code",
   "execution_count": 37,
   "metadata": {},
   "outputs": [
    {
     "data": {
      "text/html": [
       "<style>\n",
       ".list-inline {list-style: none; margin:0; padding: 0}\n",
       ".list-inline>li {display: inline-block}\n",
       ".list-inline>li:not(:last-child)::after {content: \"\\00b7\"; padding: 0 .5ex}\n",
       "</style>\n",
       "<ol class=list-inline><li>1</li><li>2</li><li>3</li><li>4</li><li>5</li><li>6</li><li>7</li><li>8</li><li>9</li><li>10</li><li>11</li><li>12</li><li>13</li><li>14</li><li>15</li><li>16</li><li>17</li><li>19</li><li>21</li><li>24</li><li>28</li><li>31</li><li>35</li><li>41</li><li>49</li></ol>\n"
      ],
      "text/latex": [
       "\\begin{enumerate*}\n",
       "\\item 1\n",
       "\\item 2\n",
       "\\item 3\n",
       "\\item 4\n",
       "\\item 5\n",
       "\\item 6\n",
       "\\item 7\n",
       "\\item 8\n",
       "\\item 9\n",
       "\\item 10\n",
       "\\item 11\n",
       "\\item 12\n",
       "\\item 13\n",
       "\\item 14\n",
       "\\item 15\n",
       "\\item 16\n",
       "\\item 17\n",
       "\\item 19\n",
       "\\item 21\n",
       "\\item 24\n",
       "\\item 28\n",
       "\\item 31\n",
       "\\item 35\n",
       "\\item 41\n",
       "\\item 49\n",
       "\\end{enumerate*}\n"
      ],
      "text/markdown": [
       "1. 1\n",
       "2. 2\n",
       "3. 3\n",
       "4. 4\n",
       "5. 5\n",
       "6. 6\n",
       "7. 7\n",
       "8. 8\n",
       "9. 9\n",
       "10. 10\n",
       "11. 11\n",
       "12. 12\n",
       "13. 13\n",
       "14. 14\n",
       "15. 15\n",
       "16. 16\n",
       "17. 17\n",
       "18. 19\n",
       "19. 21\n",
       "20. 24\n",
       "21. 28\n",
       "22. 31\n",
       "23. 35\n",
       "24. 41\n",
       "25. 49\n",
       "\n",
       "\n"
      ],
      "text/plain": [
       " [1]  1  2  3  4  5  6  7  8  9 10 11 12 13 14 15 16 17 19 21 24 28 31 35 41 49"
      ]
     },
     "metadata": {},
     "output_type": "display_data"
    },
    {
     "name": "stderr",
     "output_type": "stream",
     "text": [
      "Joining, by = c(\"pval\", \"sig_label\", \"mix\", \"position\", \"timeFMT\")\n",
      "\n",
      "Joining, by = \"mix\"\n",
      "\n"
     ]
    },
    {
     "data": {
      "image/png": "[encoded data removed]",
      "text/plain": [
       "plot without title"
      ]
     },
     "metadata": {
      "image/png": {
       "height": 420,
       "width": 420
      }
     },
     "output_type": "display_data"
    }
   ],
   "source": [
    "#####* figure weight   with integral areas ---------\n",
    "\n",
    "weight <- read.csv(\"weight_DAI/FMT_DSS_weight.csv\")\n",
    "weight$value<- round(as.numeric(weight$value),2)*100\n",
    "weight <- na.omit(weight)\n",
    "\n",
    "unique(weight$timeFMT)\n",
    "\n",
    "weight1 <- subset(weight,timeFMT %in% c(1,4,7,10,13,16,19,24,28,31,35,41,49))\n",
    "\n",
    "p <- errorbar_line_plot(df=weight1,var1 = \"donor2acceptor\",var1_sub = c(\"YO\",\"OO\"),\n",
    "                        group = \"donor2acceptor\",time=\"timeFMT\",signifi = TRUE,\n",
    "                        sig_com = list(c(\"YO\",\"OO\")),dis_index = 10)+\n",
    "  scale_color_manual(values =color_db[c(\"YO\",\"OO\"),\"value\"] )+labs(y=\"% weight change\")+\n",
    "  scale_y_continuous(breaks = c(0,-5,-10,-15,-20,-25,-30))+\n",
    "  scale_x_continuous(position = \"top\")\n",
    "\n",
    "\n",
    "p1=p+geom_point(aes(x=p$data$timeFMT-p$data$Dodge),size=3,shape=21,fill=\"white\",stroke=2)\n",
    "p1\n"
   ]
  },
  {
   "cell_type": "markdown",
   "metadata": {},
   "source": [
    "# FMT_relative20210415.R"
   ]
  },
  {
   "cell_type": "markdown",
   "metadata": {},
   "source": [
    "## relative abundance plot"
   ]
  },
  {
   "cell_type": "code",
   "execution_count": 19,
   "metadata": {},
   "outputs": [
    {
     "name": "stderr",
     "output_type": "stream",
     "text": [
      "Joining, by = c(\".\", \"name\")\n",
      "\n",
      "Joining, by = \"name\"\n",
      "\n",
      "`summarise()` has grouped output by 'donor2acceptor', 'label_id', 'sampleId', 'variable', 'timeFMT'. You can override using the `.groups` argument.\n",
      "\n"
     ]
    },
    {
     "data": {
      "image/png": "[encoded data removed]",
      "text/plain": [
       "plot without title"
      ]
     },
     "metadata": {
      "image/png": {
       "height": 420,
       "width": 420
      }
     },
     "output_type": "display_data"
    }
   ],
   "source": [
    "######  all figure in a paper order\n",
    "setwd(\"F:/R file/DaiLab/wangying/FMT_project\")\n",
    "####### change the tree file , and use rbiom::unifrac to replace the phyloseq\n",
    "## change color from red to orange.\n",
    "\n",
    "file_name=\"figure20210415\"\n",
    "\n",
    "\n",
    "\n",
    "\n",
    "\n",
    "######## relative abundance preprocessing -------------\n",
    "phylo1 = phylo1_get(phylo_all,meta,var1 = \"donor2acceptor\",\n",
    "                    var1_sub = c(\"O2\",\"Y2\",\"O3\",\"Y3\",\"O0\",\"Y0\"),var2 = \"timeFMT\",\n",
    "                    var2_sub = c(0,1,4,7,14,21,28,35,42,49,56))\n",
    "\n",
    "phylo2 = phylo1_get(phylo_all,meta,var1 = \"donor2acceptor\",\n",
    "                    var1_sub = c(\"OO\",\"YO\",\"OD\",\"YD\"),var2 = \"timeFMT\",\n",
    "                    var2_sub = c(-1,0,1,4,7,14,21,28,35,42,49,56))\n",
    "###merge\n",
    "phylo3 <- merge_phyloseq(phylo1,phylo2)\n",
    "\n",
    "otu_tax1 <- otu_tax1_get(phylo_all=phylo3,tax_Name=\"Genus\",meta=meta)\n",
    "\n",
    "\n",
    "\n",
    "# h=merge(tax,data.frame(Genus=colnames(otu_tax1)),by=\"Genus\")\n",
    "\n",
    "\n",
    "meta1 <- meta[rownames(otu_tax1),]\n",
    "\n",
    "tax_melt<- relative_abun_get(otu_tax1,meta1,time=\"timeFMT\",time_type=\"num\",\n",
    "                             var1=\"donor2acceptor\",var2 = \"label_id\")\n",
    "\n",
    "### top based on all data 底层级包含在高层级\n",
    "tax_melt1=relative_abun_second_get(tax_melt,tax0=tax,Time=\"timeFMT\")\n",
    "\n",
    "\n",
    "#######remove some of the taxonomy and shorten the names \n",
    "tax_level=data.frame(old=levels(tax_melt1$variable))\n",
    "tax_level$new=sapply(str_split(tax_level$old,\"[-gut]*-group\"),\"[\",1)\n",
    "tax_level[tax_level$new==\"G_gut-metagenome\",\"new\"]=\"others\"\n",
    "##### relevels again , base on the specified taxonomy of each taxonomy 每个进化层次只保留一个\n",
    "tax_melt1$donor2acceptor <- factor(tax_melt1$donor2acceptor,levels = c(\"O2\",\"Y2\",\"OO\",\"YO\",\"YD\",\n",
    "                                                                       \"OD\",\"O3\",\"Y3\",\"O0\",\"Y0\"))\n",
    "tax_melt1$label_id = str_sub(tax_melt1$label_id,2,2)\n",
    "\n",
    "tax_melt1$variable=factor(tax_melt1$variable,levels = tax_level$old,labels = tax_level$new)\n",
    "\n",
    "tax_melt1 = merge(tax_melt1,meta[,c(\"id\",\"cage\")],by.x=\"sampleId\",by.y=\"row.names\")\n",
    "\n",
    "tax_melt1$timeFMT=as.numeric(as.matrix(tax_melt1$timeFMT))\n",
    "\n",
    "\n",
    "\n",
    "color2taxonomy <- data.frame(taxonomy=levels(tax_melt1$variable),\n",
    "                             genus_color=c(\"grey\",distinctive_colors(length(unique(tax_melt1$variable))-8),\"purple\",\"red\",\"brown\",\"cyan\",\"blue\",\"green\",\"orange\"))\n",
    "\n",
    "tax_melt2 <- subset(tax_melt1, donor2acceptor %in% c(\"O2\",\"Y2\",\"O3\",\"Y3\",\"YO\",\"OO\",\"Y0\",\"O0\"))\n",
    "\n",
    "#### add the same  taxonomy of each day each mouse before get the mean value , some taxonomy may has two value in a day of a mouse\n",
    "tax_melt2=tax_melt2 %>% group_by(donor2acceptor,label_id,sampleId,variable,timeFMT,cage) %>%\n",
    "  summarise(value=sum(value)) %>% ungroup() %>%as.data.frame()\n",
    "\n",
    "\n",
    "p1 = relative_abun_plot(tax_melt1,var1=\"donor2acceptor\",var1_sub = \"O3\",xvalue_order = FALSE,\n",
    "                        xvalue=\"label_id\",facet=\"timeFMT\",tax=\"Genus\",title_name = \"20 months ABL\",\n",
    "                        color_g = length(unique(tax_melt1$variable)))+ guides(fill=\"none\")+\n",
    "  labs(x=\"mouse id\", y=\"Relative Abundance\")\n",
    "p1"
   ]
  },
  {
   "cell_type": "markdown",
   "metadata": {},
   "source": [
    "## abosulate abundance plot"
   ]
  },
  {
   "cell_type": "code",
   "execution_count": 20,
   "metadata": {},
   "outputs": [
    {
     "name": "stderr",
     "output_type": "stream",
     "text": [
      "Joining, by = c(\"donor2acceptor\", \"sampleId\", \"timeFMT\")\n",
      "\n",
      "Scale for 'y' is already present. Adding another scale for 'y', which will\n",
      "replace the existing scale.\n",
      "\n"
     ]
    },
    {
     "data": {
      "image/png": "[encoded data removed]",
      "text/plain": [
       "plot without title"
      ]
     },
     "metadata": {
      "image/png": {
       "height": 420,
       "width": 420
      }
     },
     "output_type": "display_data"
    }
   ],
   "source": [
    "###### sf  absolute abundace ------------------\n",
    "qpcr <- read.csv(\"QPCR/qpcr_refine.csv\")\n",
    "qpcr$raw_reads=qpcr$res_log10.^10\n",
    "qpcr1=merge(qpcr,meta[,c(\"label_id\",\"id\")],by.x=\"sampleId\",by.y=\"row.names\")\n",
    "# qpcr1$timeFMT=paste(\"D\",qpcr1$timeFMT,sep = \"_\")\n",
    "\n",
    "\n",
    "# h=demelt(data=qpcr1[,c(\"label_id\",\"raw_reads\",\"timeFMT\")],value=\"raw_reads\",y = \"label_id\",x = \"timeFMT\")\n",
    "\n",
    "\n",
    "\n",
    "# h=dcast(timeFMT~sampleId,qpcr1[,c(\"sampleId\",\"raw_reads\",\"timeFMT\")])\n",
    "## calculate the absolute value with qpcr\n",
    "tax_melt2$timeFMT= as.numeric(as.matrix(tax_melt2$timeFMT))\n",
    "\n",
    "tax_melt3= full_join(tax_melt2,qpcr[,c(\"sampleId\",\"donor2acceptor\",\"timeFMT\",\"res_log10.\")]) %>% \n",
    "  na.omit()\n",
    " \n",
    "tax_melt3$ab_value= tax_melt3$value * (tax_melt3$res_log10.)^10\n",
    "\n",
    "###### old group  ABX\n",
    "p1 <- line_plot2(tax_melt = tax_melt3,var1 = \"donor2acceptor\",var1_sub = \"O2\",color_level=color2taxonomy,\n",
    "                 Value = \"ab_value\",\n",
    "                 group = \"variable\",time = \"timeFMT\",tax_num = length(unique(tax_melt3$variable)),mad_all = TRUE )+\n",
    "  scale_x_continuous(breaks=c(0,1,4,7,14,21,28,35,42,49,56)) +guides(color=\"none\")+\n",
    "  labs(x=\"Days\",y=\"absolute Abundance *relative abundance\",title = \"20 months ABH\")+\n",
    "  # scale_y_log10(limits=c(1,1e+12)) +\n",
    "  ylim(NA,7e+10)\n",
    "\n",
    "p1"
   ]
  },
  {
   "cell_type": "markdown",
   "metadata": {},
   "source": [
    "# FMT_PCoA20210415.R"
   ]
  },
  {
   "cell_type": "markdown",
   "metadata": {},
   "source": [
    "## point plot"
   ]
  },
  {
   "cell_type": "code",
   "execution_count": 35,
   "metadata": {},
   "outputs": [
    {
     "data": {
      "text/html": [
       "<style>\n",
       ".list-inline {list-style: none; margin:0; padding: 0}\n",
       ".list-inline>li {display: inline-block}\n",
       ".list-inline>li:not(:last-child)::after {content: \"\\00b7\"; padding: 0 .5ex}\n",
       "</style>\n",
       "<ol class=list-inline><li>O2</li><li>O0</li></ol>\n",
       "\n",
       "<details>\n",
       "\t<summary style=display:list-item;cursor:pointer>\n",
       "\t\t<strong>Levels</strong>:\n",
       "\t</summary>\n",
       "\t<style>\n",
       "\t.list-inline {list-style: none; margin:0; padding: 0}\n",
       "\t.list-inline>li {display: inline-block}\n",
       "\t.list-inline>li:not(:last-child)::after {content: \"\\00b7\"; padding: 0 .5ex}\n",
       "\t</style>\n",
       "\t<ol class=list-inline><li>'OD'</li><li>'YD'</li><li>'Y0'</li><li>'O0'</li><li>'Y2'</li><li>'O2'</li><li>'YY'</li><li>'OY'</li><li>'OO'</li><li>'YO'</li><li>'DSS2'</li><li>'DSS18'</li><li>'Y3'</li><li>'O3'</li><li>'M0'</li><li>'M2'</li><li>'M3'</li></ol>\n",
       "</details>"
      ],
      "text/latex": [
       "\\begin{enumerate*}\n",
       "\\item O2\n",
       "\\item O0\n",
       "\\end{enumerate*}\n",
       "\n",
       "\\emph{Levels}: \\begin{enumerate*}\n",
       "\\item 'OD'\n",
       "\\item 'YD'\n",
       "\\item 'Y0'\n",
       "\\item 'O0'\n",
       "\\item 'Y2'\n",
       "\\item 'O2'\n",
       "\\item 'YY'\n",
       "\\item 'OY'\n",
       "\\item 'OO'\n",
       "\\item 'YO'\n",
       "\\item 'DSS2'\n",
       "\\item 'DSS18'\n",
       "\\item 'Y3'\n",
       "\\item 'O3'\n",
       "\\item 'M0'\n",
       "\\item 'M2'\n",
       "\\item 'M3'\n",
       "\\end{enumerate*}\n"
      ],
      "text/markdown": [
       "1. O2\n",
       "2. O0\n",
       "\n",
       "\n",
       "\n",
       "**Levels**: 1. 'OD'\n",
       "2. 'YD'\n",
       "3. 'Y0'\n",
       "4. 'O0'\n",
       "5. 'Y2'\n",
       "6. 'O2'\n",
       "7. 'YY'\n",
       "8. 'OY'\n",
       "9. 'OO'\n",
       "10. 'YO'\n",
       "11. 'DSS2'\n",
       "12. 'DSS18'\n",
       "13. 'Y3'\n",
       "14. 'O3'\n",
       "15. 'M0'\n",
       "16. 'M2'\n",
       "17. 'M3'\n",
       "\n",
       "\n"
      ],
      "text/plain": [
       "[1] O2 O0\n",
       "Levels: OD YD Y0 O0 Y2 O2 YY OY OO YO DSS2 DSS18 Y3 O3 M0 M2 M3"
      ]
     },
     "metadata": {},
     "output_type": "display_data"
    },
    {
     "name": "stderr",
     "output_type": "stream",
     "text": [
      "Scale for 'size' is already present. Adding another scale for 'size', which\n",
      "will replace the existing scale.\n",
      "\n",
      "Scale for 'shape' is already present. Adding another scale for 'shape', which\n",
      "will replace the existing scale.\n",
      "\n"
     ]
    },
    {
     "data": {
      "image/png": "[encoded data removed]",
      "text/plain": [
       "plot without title"
      ]
     },
     "metadata": {
      "image/png": {
       "height": 420,
       "width": 420
      }
     },
     "output_type": "display_data"
    }
   ],
   "source": [
    "######  all figure in a paper order\n",
    "setwd(\"F:/R file/DaiLab/wangying/FMT_project\")\n",
    "####### change the tree file , and use rbiom::unifrac to replace the phyloseq\n",
    "\n",
    "\n",
    "file_name=\"figure_20210415\"\n",
    "\n",
    "##### all the PCoA used the same metric, only for wunifrac and bray \n",
    "metric=\"bray\"\n",
    "\n",
    "\n",
    "####\n",
    "#### FMT baseline 使用30 个数据，figure1 D 使用control的5个数据\n",
    "\n",
    "\n",
    "\n",
    "\n",
    "###### figure1. D PCoA and signifi-----------\n",
    "##### O2 ,with different type of point ploting , FMT all group and distance\n",
    "\n",
    "phylo1 = phylo1_get(phylo_all,meta,var1 = \"donor2acceptor\",\n",
    "                    var1_sub = c(\"O2\",\"O0\"))\n",
    "\n",
    "\n",
    "\n",
    "\n",
    "all = pcoa_product(Data=phylo1,meta,metric=metric,trefile=trefile)\n",
    "data_ord=all[[1]]\n",
    "pcoa=all[[2]]\n",
    "unique(data_ord$donor2acceptor)\n",
    "\n",
    "data_ord$donor2acceptor <- as.character(data_ord$donor2acceptor)\n",
    "\n",
    "\n",
    "data_ord$timeFMT<- as.numeric(data_ord$timeFMT)\n",
    "\n",
    "######## make the control time to day0, and day0 of O2 and O3 to control\n",
    "for (i in c(\"O0\")) {\n",
    "  data_ord[data_ord$donor2acceptor==i,\"timeFMT\"]=0\n",
    "}\n",
    "\n",
    "\n",
    "\n",
    "\n",
    "for (i in c(\"O2\",\"O3\")) {\n",
    "  ii=paste(substr(i,1,1),\"0\",sep=\"\")\n",
    "  data_ord[data_ord$donor2acceptor==i& data_ord$timeFMT==0,\"donor2acceptor\"]=ii\n",
    "}\n",
    "\n",
    "\n",
    "\n",
    "data_ord1 = dd_rowmean2(data1=subset(data_ord,donor2acceptor %in% c(\"O0\")),\n",
    "                        var1 = \"pc1\",var2 = \"pc2\",var3 = \"pc3\",\n",
    "                        group1 = \"donor2acceptor\")\n",
    "\n",
    "data_ord1=data_ord1[c(\"O0\"),]\n",
    "data_ord1$donor2acceptor = \"O0\"\n",
    "data_ord2=data_ord1[c(\"O0\"),]\n",
    "data_ord2$donor2acceptor=\"O2\"\n",
    "\n",
    "data_ord1 = rbind(data_ord1,data_ord2,data_ord[data_ord$timeFMT!=0,])\n",
    "\n",
    "data_ord1$donor2acceptor = factor(data_ord1$donor2acceptor,levels =c(\"O0\",\"O2\",\"O3\") )\n",
    "data_ord1$timeFMT <- as.numeric(data_ord1$timeFMT)\n",
    "\n",
    "### all group \n",
    "p <- pcoa_plot_size(data_ord1,pcoa,metric=metric,title_name = \"PCoA--all\",size=\"timeFMT\",\n",
    "                    color = \"donor2acceptor\",shape = \"donor2acceptor\",shape_sub = c(21,22),\n",
    "                    var1 = \"donor2acceptor\",var1_sub = c(\"O0\",\"O2\"),\n",
    "                    # var1 = \"timeFMT\",var1_sub = c(0,4,21,42),\n",
    "                    text=\"timeFMT\")+ \n",
    "  # geom_point(data=data_ord1[data_ord1$timeFMT==0,],aes(x=pc1,y=pc2,shape=donor2acceptor))+\n",
    "  # scale_shape_manual(values=c(21))+\n",
    "  scale_fill_manual(values = color_db[c(\"O0\",\"O2\"),\"value\"],\n",
    "                    name=\"treatment\",breaks = c(\"O0\",\"O2\"),labels=c(\"Ctrl\",\"ABH\")\n",
    "                    )+\n",
    "  scale_color_manual(values = color_db[c(\"O0\",\"O2\"),\"value\"])+\n",
    "  scale_size_continuous(range=c(1,12),breaks = seq(1,11),\n",
    "                        labels = c(0,1,4,7,14,21,28,35,42,49,56))\n",
    "\n",
    "p_data_mean=p$data \n",
    "p_data_mean[,c(\"pc1\",\"pc2\")]=p_data_mean[,c(\"pc1_mean\",\"pc2_mean\")]\n",
    "\n",
    "new_data=rbind(p$data,p_data_mean)\n",
    "\n",
    "\n",
    "\n",
    "p1=p+ geom_point(data=subset(data_ord1,donor2acceptor %in% c(\"O0\")),\n",
    "                aes(x=pc1,y=pc2,color=donor2acceptor,shape=donor2acceptor),\n",
    "                stroke=3,size=10)+ \n",
    "  scale_shape_manual(values = c(4))+\n",
    "  geom_point(data=p$data,aes(pc1,pc2),color=color_db[c(\"O2\"),\"value\"],size=3,alpha=0.5) +\n",
    "  guides(color=\"none\")+\n",
    "  geom_line(data=new_data,aes(pc1,pc2,group=new_data$Row.names),color=color_db[c(\"O2\"),\"value\"],\n",
    "            size=0.5,alpha=0.5) + \n",
    "  labs(size=\"Day\",shape=\"Treatment\")\n",
    "\n",
    "\n",
    "p1"
   ]
  },
  {
   "cell_type": "markdown",
   "metadata": {},
   "source": [
    "## distance significance bar plot"
   ]
  },
  {
   "cell_type": "code",
   "execution_count": 22,
   "metadata": {},
   "outputs": [
    {
     "data": {
      "text/html": [
       "<style>\n",
       ".list-inline {list-style: none; margin:0; padding: 0}\n",
       ".list-inline>li {display: inline-block}\n",
       ".list-inline>li:not(:last-child)::after {content: \"\\00b7\"; padding: 0 .5ex}\n",
       "</style>\n",
       "<ol class=list-inline><li>O3</li><li>O2</li><li>O0</li></ol>\n",
       "\n",
       "<details>\n",
       "\t<summary style=display:list-item;cursor:pointer>\n",
       "\t\t<strong>Levels</strong>:\n",
       "\t</summary>\n",
       "\t<style>\n",
       "\t.list-inline {list-style: none; margin:0; padding: 0}\n",
       "\t.list-inline>li {display: inline-block}\n",
       "\t.list-inline>li:not(:last-child)::after {content: \"\\00b7\"; padding: 0 .5ex}\n",
       "\t</style>\n",
       "\t<ol class=list-inline><li>'OD'</li><li>'YD'</li><li>'Y0'</li><li>'O0'</li><li>'Y2'</li><li>'O2'</li><li>'YY'</li><li>'OY'</li><li>'OO'</li><li>'YO'</li><li>'DSS2'</li><li>'DSS18'</li><li>'Y3'</li><li>'O3'</li><li>'M0'</li><li>'M2'</li><li>'M3'</li></ol>\n",
       "</details>"
      ],
      "text/latex": [
       "\\begin{enumerate*}\n",
       "\\item O3\n",
       "\\item O2\n",
       "\\item O0\n",
       "\\end{enumerate*}\n",
       "\n",
       "\\emph{Levels}: \\begin{enumerate*}\n",
       "\\item 'OD'\n",
       "\\item 'YD'\n",
       "\\item 'Y0'\n",
       "\\item 'O0'\n",
       "\\item 'Y2'\n",
       "\\item 'O2'\n",
       "\\item 'YY'\n",
       "\\item 'OY'\n",
       "\\item 'OO'\n",
       "\\item 'YO'\n",
       "\\item 'DSS2'\n",
       "\\item 'DSS18'\n",
       "\\item 'Y3'\n",
       "\\item 'O3'\n",
       "\\item 'M0'\n",
       "\\item 'M2'\n",
       "\\item 'M3'\n",
       "\\end{enumerate*}\n"
      ],
      "text/markdown": [
       "1. O3\n",
       "2. O2\n",
       "3. O0\n",
       "\n",
       "\n",
       "\n",
       "**Levels**: 1. 'OD'\n",
       "2. 'YD'\n",
       "3. 'Y0'\n",
       "4. 'O0'\n",
       "5. 'Y2'\n",
       "6. 'O2'\n",
       "7. 'YY'\n",
       "8. 'OY'\n",
       "9. 'OO'\n",
       "10. 'YO'\n",
       "11. 'DSS2'\n",
       "12. 'DSS18'\n",
       "13. 'Y3'\n",
       "14. 'O3'\n",
       "15. 'M0'\n",
       "16. 'M2'\n",
       "17. 'M3'\n",
       "\n",
       "\n"
      ],
      "text/plain": [
       "[1] O3 O2 O0\n",
       "Levels: OD YD Y0 O0 Y2 O2 YY OY OO YO DSS2 DSS18 Y3 O3 M0 M2 M3"
      ]
     },
     "metadata": {},
     "output_type": "display_data"
    },
    {
     "name": "stderr",
     "output_type": "stream",
     "text": [
      "Joining, by = c(\"donor2acceptor\", \"comparison\", \"pval\", \"sig_label\", \"y\", \"xend\", \"sig_label_y\", \"sig_label_x\")\n",
      "\n",
      "Scale for 'y' is already present. Adding another scale for 'y', which will\n",
      "replace the existing scale.\n",
      "\n"
     ]
    },
    {
     "data": {
      "image/png": "[encoded data removed]",
      "text/plain": [
       "plot without title"
      ]
     },
     "metadata": {
      "image/png": {
       "height": 420,
       "width": 420
      }
     },
     "output_type": "display_data"
    }
   ],
   "source": [
    "#######* distance and significance  -------\n",
    "####figure1 D.2  significant  box plot  , baseline: day56 of control\n",
    "phylo1 = phylo1_get(phylo_all,meta,var1 = \"donor2acceptor\",\n",
    "                    var1_sub = c(\"O3\",\"O2\",\"O0\"),var2 = \"timeFMT\",var2_sub = c(0,56))\n",
    "\n",
    "\n",
    "\n",
    "# metric=\"wunifrac\"\n",
    "all = pcoa_product(phylo1,meta,metric=metric,trefile=trefile)\n",
    "data_ord=all[[1]]\n",
    "pcoa=all[[2]]\n",
    "unique(data_ord$donor2acceptor)\n",
    "\n",
    "\n",
    "pcoa_distance <- all[[3]] %>% as.matrix()\n",
    "\n",
    "dis_melt = distance_refine(pcoa_distance,meta,mouse_id=\"label_id\",\n",
    "                           group=\"donor2acceptor\",time=\"timeFMT\",time_pos=3,time_base = \"0\")\n",
    "\n",
    "# ##### change the name of O3 day0 and O2 day0 to the same name baseline before run baseline get 使用5个点\n",
    "dis_melt[dis_melt$variable==0 & dis_melt$donor2acceptor %in% c(\"O0\"),\"donor2acceptor\"]=\"O_base\"\n",
    "\n",
    "\n",
    "#### chagne the name of O3 and O2 and O0 day 0 to the same name \n",
    "# meta1=meta\n",
    "\n",
    "meta1=data.frame(phylo_all@sam_data )\n",
    "\n",
    "\n",
    "meta1$donor2acceptor=as.character(meta1$donor2acceptor)\n",
    "meta1[meta1$timeFMT==0 & meta1$donor2acceptor %in% c(\"O0\",\"O2\",\"O3\"),\"donor2acceptor\"]=\"O_base\"\n",
    "\n",
    "\n",
    "base_distance<- distance_base_product(data=phylo1, meta=meta1,var1=\"timeFMT\",var1_sub=\"0\",\n",
    "                                      group=\"donor2acceptor\",group_sub=c(\"O_base\"),\n",
    "                                      metric=metric, trefile=trefile)\n",
    "\n",
    "dis_melt$mix=paste(str_sub(dis_melt$id,1,2),\n",
    "                   dis_melt$donor2acceptor,\"0\",sep = \"_\")\n",
    "\n",
    "#### change the value of the day0 \n",
    "for (i in rownames(base_distance)) {\n",
    "  dis_melt[dis_melt$mix==i& dis_melt$variable==0,\"value\"] <- base_distance[i,\"value\"]\n",
    "}\n",
    "\n",
    "dis_melt$donor2acceptor=factor(dis_melt$donor2acceptor,levels = c(\"O_base\",\"O2\",\"O3\"),\n",
    "                               labels = c(\"baseline\",\"ABH\",\"ABL\"))\n",
    "\n",
    "###remove the other value of each group\n",
    "dis_melt=dis_melt[dis_melt$value!=0,]\n",
    "### with p adjust\n",
    "p=sig_box_plot(df=dis_melt,var1 = \"donor2acceptor\",var1_sub = c(\"baseline\",\"ABH\",\"ABL\"),\n",
    "               # com=list(c(\"O2\",\"O3\"),c(\"O_base\",\"O2\"),c(\"O_base\",\"O3\")),\n",
    "               var2 = \"variable\",var2_sub = c(0,56),\n",
    "               time=\"donor2acceptor\") +\n",
    "  scale_color_manual(breaks = c(\"baseline\",\"ABH\",\"ABL\"),labels=c(\"Ctrl\",\"ABH\",\"ABL\"),\n",
    "                     values = color_db[c(\"O0\",\"O2\",\"O3\"),\"value\"])+\n",
    "  labs(title = paste(metric,\"day56 O2 vs O3\"),y=\"Bray-Curtis distance\",color=\"Treatment\")+\n",
    "  ylim(0.001,1.5) + labs(x=\"treatment\")\n",
    "\n",
    "p \n",
    "\n"
   ]
  },
  {
   "cell_type": "markdown",
   "metadata": {},
   "source": [
    "## line plot"
   ]
  },
  {
   "cell_type": "code",
   "execution_count": 23,
   "metadata": {},
   "outputs": [
    {
     "data": {
      "text/html": [
       "<style>\n",
       ".list-inline {list-style: none; margin:0; padding: 0}\n",
       ".list-inline>li {display: inline-block}\n",
       ".list-inline>li:not(:last-child)::after {content: \"\\00b7\"; padding: 0 .5ex}\n",
       "</style>\n",
       "<ol class=list-inline><li>O2</li><li>OD</li><li>OO</li><li>YO</li><li>YD</li></ol>\n",
       "\n",
       "<details>\n",
       "\t<summary style=display:list-item;cursor:pointer>\n",
       "\t\t<strong>Levels</strong>:\n",
       "\t</summary>\n",
       "\t<style>\n",
       "\t.list-inline {list-style: none; margin:0; padding: 0}\n",
       "\t.list-inline>li {display: inline-block}\n",
       "\t.list-inline>li:not(:last-child)::after {content: \"\\00b7\"; padding: 0 .5ex}\n",
       "\t</style>\n",
       "\t<ol class=list-inline><li>'OD'</li><li>'YD'</li><li>'Y0'</li><li>'O0'</li><li>'Y2'</li><li>'O2'</li><li>'YY'</li><li>'OY'</li><li>'OO'</li><li>'YO'</li><li>'DSS2'</li><li>'DSS18'</li><li>'Y3'</li><li>'O3'</li><li>'M0'</li><li>'M2'</li><li>'M3'</li></ol>\n",
       "</details>"
      ],
      "text/latex": [
       "\\begin{enumerate*}\n",
       "\\item O2\n",
       "\\item OD\n",
       "\\item OO\n",
       "\\item YO\n",
       "\\item YD\n",
       "\\end{enumerate*}\n",
       "\n",
       "\\emph{Levels}: \\begin{enumerate*}\n",
       "\\item 'OD'\n",
       "\\item 'YD'\n",
       "\\item 'Y0'\n",
       "\\item 'O0'\n",
       "\\item 'Y2'\n",
       "\\item 'O2'\n",
       "\\item 'YY'\n",
       "\\item 'OY'\n",
       "\\item 'OO'\n",
       "\\item 'YO'\n",
       "\\item 'DSS2'\n",
       "\\item 'DSS18'\n",
       "\\item 'Y3'\n",
       "\\item 'O3'\n",
       "\\item 'M0'\n",
       "\\item 'M2'\n",
       "\\item 'M3'\n",
       "\\end{enumerate*}\n"
      ],
      "text/markdown": [
       "1. O2\n",
       "2. OD\n",
       "3. OO\n",
       "4. YO\n",
       "5. YD\n",
       "\n",
       "\n",
       "\n",
       "**Levels**: 1. 'OD'\n",
       "2. 'YD'\n",
       "3. 'Y0'\n",
       "4. 'O0'\n",
       "5. 'Y2'\n",
       "6. 'O2'\n",
       "7. 'YY'\n",
       "8. 'OY'\n",
       "9. 'OO'\n",
       "10. 'YO'\n",
       "11. 'DSS2'\n",
       "12. 'DSS18'\n",
       "13. 'Y3'\n",
       "14. 'O3'\n",
       "15. 'M0'\n",
       "16. 'M2'\n",
       "17. 'M3'\n",
       "\n",
       "\n"
      ],
      "text/plain": [
       "[1] O2 OD OO YO YD\n",
       "Levels: OD YD Y0 O0 Y2 O2 YY OY OO YO DSS2 DSS18 Y3 O3 M0 M2 M3"
      ]
     },
     "metadata": {},
     "output_type": "display_data"
    },
    {
     "data": {
      "text/html": [
       "<style>\n",
       ".list-inline {list-style: none; margin:0; padding: 0}\n",
       ".list-inline>li {display: inline-block}\n",
       ".list-inline>li:not(:last-child)::after {content: \"\\00b7\"; padding: 0 .5ex}\n",
       "</style>\n",
       "<ol class=list-inline><li>'OD'</li><li>'YD'</li><li>'Y0'</li><li>'O0'</li><li>'Y2'</li><li>'O2'</li><li>'YY'</li><li>'OY'</li><li>'OO'</li><li>'YO'</li><li>'DSS2'</li><li>'DSS18'</li><li>'Y3'</li><li>'O3'</li><li>'M0'</li><li>'M2'</li><li>'M3'</li></ol>\n"
      ],
      "text/latex": [
       "\\begin{enumerate*}\n",
       "\\item 'OD'\n",
       "\\item 'YD'\n",
       "\\item 'Y0'\n",
       "\\item 'O0'\n",
       "\\item 'Y2'\n",
       "\\item 'O2'\n",
       "\\item 'YY'\n",
       "\\item 'OY'\n",
       "\\item 'OO'\n",
       "\\item 'YO'\n",
       "\\item 'DSS2'\n",
       "\\item 'DSS18'\n",
       "\\item 'Y3'\n",
       "\\item 'O3'\n",
       "\\item 'M0'\n",
       "\\item 'M2'\n",
       "\\item 'M3'\n",
       "\\end{enumerate*}\n"
      ],
      "text/markdown": [
       "1. 'OD'\n",
       "2. 'YD'\n",
       "3. 'Y0'\n",
       "4. 'O0'\n",
       "5. 'Y2'\n",
       "6. 'O2'\n",
       "7. 'YY'\n",
       "8. 'OY'\n",
       "9. 'OO'\n",
       "10. 'YO'\n",
       "11. 'DSS2'\n",
       "12. 'DSS18'\n",
       "13. 'Y3'\n",
       "14. 'O3'\n",
       "15. 'M0'\n",
       "16. 'M2'\n",
       "17. 'M3'\n",
       "\n",
       "\n"
      ],
      "text/plain": [
       " [1] \"OD\"    \"YD\"    \"Y0\"    \"O0\"    \"Y2\"    \"O2\"    \"YY\"    \"OY\"    \"OO\"   \n",
       "[10] \"YO\"    \"DSS2\"  \"DSS18\" \"Y3\"    \"O3\"    \"M0\"    \"M2\"    \"M3\"   "
      ]
     },
     "metadata": {},
     "output_type": "display_data"
    },
    {
     "data": {
      "text/html": [
       "<style>\n",
       ".list-inline {list-style: none; margin:0; padding: 0}\n",
       ".list-inline>li {display: inline-block}\n",
       ".list-inline>li:not(:last-child)::after {content: \"\\00b7\"; padding: 0 .5ex}\n",
       "</style>\n",
       "<ol class=list-inline><li>0</li><li>1</li><li>14</li><li>21</li><li>28</li><li>35</li><li>4</li><li>42</li><li>49</li><li>56</li><li>7</li></ol>\n"
      ],
      "text/latex": [
       "\\begin{enumerate*}\n",
       "\\item 0\n",
       "\\item 1\n",
       "\\item 14\n",
       "\\item 21\n",
       "\\item 28\n",
       "\\item 35\n",
       "\\item 4\n",
       "\\item 42\n",
       "\\item 49\n",
       "\\item 56\n",
       "\\item 7\n",
       "\\end{enumerate*}\n"
      ],
      "text/markdown": [
       "1. 0\n",
       "2. 1\n",
       "3. 14\n",
       "4. 21\n",
       "5. 28\n",
       "6. 35\n",
       "7. 4\n",
       "8. 42\n",
       "9. 49\n",
       "10. 56\n",
       "11. 7\n",
       "\n",
       "\n"
      ],
      "text/plain": [
       " [1]  0  1 14 21 28 35  4 42 49 56  7"
      ]
     },
     "metadata": {},
     "output_type": "display_data"
    },
    {
     "data": {
      "image/png": "[encoded data removed]",
      "text/plain": [
       "plot without title"
      ]
     },
     "metadata": {
      "image/png": {
       "height": 420,
       "width": 420
      }
     },
     "output_type": "display_data"
    }
   ],
   "source": [
    "####* distance lineplot -----------\n",
    "##########  all day distance to baseline of OO and YO as old donor baseline\n",
    "######## day21 to baseline, keep the baseline of each time point, and use OO YO as baseline\n",
    "\n",
    "phylo1 = phylo1_get(phylo_all,refined_data$meta,var1 = \"donor2acceptor\",\n",
    "                    var1_sub = c(\"O2\",\"OO\",\"YO\",\"OY\",\"YY\"),var2 = \"timeFMT\",var2_sub = c(0,1,4,7,14,21,28,35,42,49,56))\n",
    "metric=\"bray\"\n",
    "all = pcoa_distance_product2(data=phylo1,meta,metric=metric,time=\"timeFMT\", remove_baseline = FALSE,\n",
    "                             trefile=trefile,mean_second = list(c(\"OO\",\"YO\"),c(\"YY\",\"OY\")),\n",
    "                             group = \"donor2acceptor\",group_sub=c(\"OO\",\"YO\",\"YD\",\"OD\",\"O2\"))\n",
    "\n",
    "\n",
    "data_ord=all$data_ord\n",
    "pcoa=all$pcoa\n",
    "unique(data_ord$donor2acceptor)\n",
    "levels(data_ord$donor2acceptor)\n",
    "\n",
    "pcoa_distance <- all$Distance %>% as.matrix()\n",
    "pcoa_distance =  pcoa_distance[-which(!is.na(str_match(rownames(pcoa_distance),\"mean\"))),\n",
    "                               -which(!is.na(str_match(rownames(pcoa_distance),\"mean\")))] #%>% as.data.frame()\n",
    "\n",
    "\n",
    "\n",
    "######### distance to old mean donor or young mean donor\n",
    "dis_melt = rbind(distance_refine3(pcoa_distance,meta=data_ord,mouse_id=\"label_id\",\n",
    "                            group=\"donor2acceptor\",time=\"timeFMT\",time_pos=3,time_base = \"0\"),\n",
    "                 distance_refine3_2(pcoa_distance,meta=data_ord,mouse_id=\"label_id\",\n",
    "                                  group=\"donor2acceptor\",time=\"timeFMT\",time_pos=3,time_base = \"0\"))\n",
    "                 \n",
    "\n",
    "dis_melt$id=sapply(str_split(dis_melt$id,\"_\"),\"[\",1)\n",
    "dis_melt$cage = str_sub(dis_melt$id,1,1)\n",
    "dis_melt$mix = paste(dis_melt$donor2acceptor,dis_melt$distanceTo,sep = \"_\")\n",
    "\n",
    "dis_melt1=mean_line_get(dis_melt,time=\"timeFMT\",group=\"mix\",value=\"value\")\n",
    "dis_melt1$timeFMT=as.numeric(dis_melt1$timeFMT)\n",
    "\n",
    "# dis_melt1$timeFMT=as.factor(dis_melt1$timeFMT)\n",
    "unique(dis_melt1$timeFMT)\n",
    "# dis_melt2=dis_melt1[dis_melt1$cage!=k ]\n",
    "\n",
    "###  old group to old mean donor\n",
    "p=ggplot(dis_melt1[dis_melt1$distanceTo==\"OD\",],aes(x=timeFMT,y=value,color=donor2acceptor))+\n",
    "  geom_line(aes(y=mean,group=donor2acceptor),size=2)+\n",
    "  geom_point(size=2,position = position_dodge2(width = 0.2))+\n",
    "  theme( panel.grid.minor = element_blank(),\n",
    "         panel.background = element_blank(),panel.border = element_blank(),\n",
    "         axis.line = element_line(colour = \"black\",linetype=\"solid\",size = 1),\n",
    "         panel.grid.major=element_line(colour=NA),axis.text=element_text(size = 15, face= \"bold\",family = \"\"),\n",
    "         legend.text = element_text(size = 10),legend.title = element_text(size=15),axis.title=element_text(size=15))+\n",
    "  scale_color_manual(values = color_db[c(\"O2\",\"OO\",\"YO\"),\"value\"])+\n",
    "  labs(title=paste(metric,\"FMT distance to OD baseline\"),x=\"Day\",\n",
    "                   y=\"Bray-Curtis distance\",color=\"Treatment\")+\n",
    "  scale_x_continuous(breaks=c(0,1,4,7,14,21,28,35,42,49,56))\n",
    "\n",
    "p\n"
   ]
  },
  {
   "cell_type": "markdown",
   "metadata": {},
   "source": [
    "# FMT_rna20210415.R"
   ]
  },
  {
   "cell_type": "code",
   "execution_count": 24,
   "metadata": {},
   "outputs": [
    {
     "name": "stderr",
     "output_type": "stream",
     "text": [
      "Loading required package: BiocGenerics\n",
      "\n",
      "Loading required package: parallel\n",
      "\n",
      "\n",
      "Attaching package: 'BiocGenerics'\n",
      "\n",
      "\n",
      "The following objects are masked from 'package:parallel':\n",
      "\n",
      "    clusterApply, clusterApplyLB, clusterCall, clusterEvalQ,\n",
      "    clusterExport, clusterMap, parApply, parCapply, parLapply,\n",
      "    parLapplyLB, parRapply, parSapply, parSapplyLB\n",
      "\n",
      "\n",
      "The following objects are masked from 'package:dplyr':\n",
      "\n",
      "    combine, intersect, setdiff, union\n",
      "\n",
      "\n",
      "The following objects are masked from 'package:stats':\n",
      "\n",
      "    IQR, mad, sd, var, xtabs\n",
      "\n",
      "\n",
      "The following objects are masked from 'package:base':\n",
      "\n",
      "    anyDuplicated, append, as.data.frame, basename, cbind, colnames,\n",
      "    dirname, do.call, duplicated, eval, evalq, Filter, Find, get, grep,\n",
      "    grepl, intersect, is.unsorted, lapply, Map, mapply, match, mget,\n",
      "    order, paste, pmax, pmax.int, pmin, pmin.int, Position, rank,\n",
      "    rbind, Reduce, rownames, sapply, setdiff, sort, table, tapply,\n",
      "    union, unique, unsplit, which, which.max, which.min\n",
      "\n",
      "\n",
      "Loading required package: S4Vectors\n",
      "\n",
      "Loading required package: stats4\n",
      "\n",
      "\n",
      "Attaching package: 'S4Vectors'\n",
      "\n",
      "\n",
      "The following objects are masked from 'package:dplyr':\n",
      "\n",
      "    first, rename\n",
      "\n",
      "\n",
      "The following object is masked from 'package:base':\n",
      "\n",
      "    expand.grid\n",
      "\n",
      "\n",
      "Loading required package: IRanges\n",
      "\n",
      "\n",
      "Attaching package: 'IRanges'\n",
      "\n",
      "\n",
      "The following object is masked from 'package:phyloseq':\n",
      "\n",
      "    distance\n",
      "\n",
      "\n",
      "The following objects are masked from 'package:dplyr':\n",
      "\n",
      "    collapse, desc, slice\n",
      "\n",
      "\n",
      "The following object is masked from 'package:grDevices':\n",
      "\n",
      "    windows\n",
      "\n",
      "\n",
      "Loading required package: GenomeInfoDb\n",
      "\n",
      "Loading required package: GenomicRanges\n",
      "\n",
      "Loading required package: SummarizedExperiment\n",
      "\n",
      "Loading required package: Biobase\n",
      "\n",
      "Welcome to Bioconductor\n",
      "\n",
      "    Vignettes contain introductory material; view with\n",
      "    'browseVignettes()'. To cite Bioconductor, see\n",
      "    'citation(\"Biobase\")', and for packages 'citation(\"pkgname\")'.\n",
      "\n",
      "\n",
      "\n",
      "Attaching package: 'Biobase'\n",
      "\n",
      "\n",
      "The following object is masked from 'package:phyloseq':\n",
      "\n",
      "    sampleNames\n",
      "\n",
      "\n",
      "Loading required package: DelayedArray\n",
      "\n",
      "Loading required package: matrixStats\n",
      "\n",
      "\n",
      "Attaching package: 'matrixStats'\n",
      "\n",
      "\n",
      "The following objects are masked from 'package:Biobase':\n",
      "\n",
      "    anyMissing, rowMedians\n",
      "\n",
      "\n",
      "The following object is masked from 'package:dplyr':\n",
      "\n",
      "    count\n",
      "\n",
      "\n",
      "Loading required package: BiocParallel\n",
      "\n",
      "\n",
      "Attaching package: 'DelayedArray'\n",
      "\n",
      "\n",
      "The following objects are masked from 'package:matrixStats':\n",
      "\n",
      "    colMaxs, colMins, colRanges, rowMaxs, rowMins, rowRanges\n",
      "\n",
      "\n",
      "The following objects are masked from 'package:base':\n",
      "\n",
      "    aperm, apply, rowsum\n",
      "\n",
      "\n",
      "Loading required package: Biostrings\n",
      "\n",
      "Loading required package: XVector\n",
      "\n",
      "\n",
      "Attaching package: 'Biostrings'\n",
      "\n",
      "\n",
      "The following object is masked from 'package:base':\n",
      "\n",
      "    strsplit\n",
      "\n",
      "\n",
      "Loading required package: Rsamtools\n",
      "\n",
      "\n",
      "Attaching package: 'GenomicAlignments'\n",
      "\n",
      "\n",
      "The following object is masked from 'package:dplyr':\n",
      "\n",
      "    last\n",
      "\n",
      "\n"
     ]
    },
    {
     "data": {
      "text/html": [
       "<style>\n",
       ".dl-inline {width: auto; margin:0; padding: 0}\n",
       ".dl-inline>dt, .dl-inline>dd {float: none; width: auto; display: inline-block}\n",
       ".dl-inline>dt::after {content: \":\\0020\"; padding-right: .5ex}\n",
       ".dl-inline>dt:not(:first-of-type) {padding-left: .5ex}\n",
       "</style><dl class=dl-inline><dt>ZL1</dt><dd>27726423</dd><dt>ZL10</dt><dd>31694478</dd><dt>ZL11</dt><dd>22408610</dd><dt>ZL12</dt><dd>28185862</dd><dt>ZL13</dt><dd>24084873</dd><dt>ZL14</dt><dd>19427778</dd><dt>ZL15</dt><dd>17182182</dd><dt>ZL16</dt><dd>16288180</dd><dt>ZL17</dt><dd>19910764</dd><dt>ZL18</dt><dd>19824593</dd><dt>ZL19</dt><dd>19136715</dd><dt>ZL2</dt><dd>16391464</dd><dt>ZL20</dt><dd>17873196</dd><dt>ZL21</dt><dd>19964238</dd><dt>ZL22</dt><dd>20225688</dd><dt>ZL23</dt><dd>18411897</dd><dt>ZL24</dt><dd>19183400</dd><dt>ZL25</dt><dd>19106732</dd><dt>ZL26</dt><dd>18197668</dd><dt>ZL27</dt><dd>17566930</dd><dt>ZL28</dt><dd>18661220</dd><dt>ZL29</dt><dd>15373396</dd><dt>ZL3</dt><dd>18538249</dd><dt>ZL30</dt><dd>16686732</dd><dt>ZL31</dt><dd>17333245</dd><dt>ZL32</dt><dd>17461449</dd><dt>ZL33</dt><dd>20139629</dd><dt>ZL34</dt><dd>18419072</dd><dt>ZL35</dt><dd>17614416</dd><dt>ZL36</dt><dd>18037667</dd><dt>ZL37</dt><dd>18063719</dd><dt>ZL38</dt><dd>16379553</dd><dt>ZL39</dt><dd>16810871</dd><dt>ZL4</dt><dd>17772250</dd><dt>ZL40</dt><dd>16684888</dd><dt>ZL41</dt><dd>17175856</dd><dt>ZL42</dt><dd>16786621</dd><dt>ZL43</dt><dd>18456632</dd><dt>ZL44</dt><dd>15725789</dd><dt>ZL45</dt><dd>18478699</dd><dt>ZL46</dt><dd>17597722</dd><dt>ZL47</dt><dd>22489219</dd><dt>ZL48</dt><dd>18929349</dd><dt>ZL49</dt><dd>19973911</dd><dt>ZL5</dt><dd>19145291</dd><dt>ZL50</dt><dd>17646379</dd><dt>ZL51</dt><dd>18946351</dd><dt>ZL52</dt><dd>25405795</dd><dt>ZL53</dt><dd>18730761</dd><dt>ZL54</dt><dd>18036683</dd><dt>ZL55</dt><dd>17511005</dd><dt>ZL56</dt><dd>19936843</dd><dt>ZL57</dt><dd>17264025</dd><dt>ZL58</dt><dd>18066220</dd><dt>ZL59</dt><dd>18827473</dd><dt>ZL6</dt><dd>17972017</dd><dt>ZL60</dt><dd>14765218</dd><dt>ZL61</dt><dd>17895767</dd><dt>ZL62</dt><dd>18539842</dd><dt>ZL63</dt><dd>18394938</dd><dt>ZL64</dt><dd>19827561</dd><dt>ZL65</dt><dd>18992428</dd><dt>ZL66</dt><dd>25390352</dd><dt>ZL7</dt><dd>22151397</dd><dt>ZL8</dt><dd>18276054</dd><dt>ZL9</dt><dd>21139428</dd></dl>\n"
      ],
      "text/latex": [
       "\\begin{description*}\n",
       "\\item[ZL1] 27726423\n",
       "\\item[ZL10] 31694478\n",
       "\\item[ZL11] 22408610\n",
       "\\item[ZL12] 28185862\n",
       "\\item[ZL13] 24084873\n",
       "\\item[ZL14] 19427778\n",
       "\\item[ZL15] 17182182\n",
       "\\item[ZL16] 16288180\n",
       "\\item[ZL17] 19910764\n",
       "\\item[ZL18] 19824593\n",
       "\\item[ZL19] 19136715\n",
       "\\item[ZL2] 16391464\n",
       "\\item[ZL20] 17873196\n",
       "\\item[ZL21] 19964238\n",
       "\\item[ZL22] 20225688\n",
       "\\item[ZL23] 18411897\n",
       "\\item[ZL24] 19183400\n",
       "\\item[ZL25] 19106732\n",
       "\\item[ZL26] 18197668\n",
       "\\item[ZL27] 17566930\n",
       "\\item[ZL28] 18661220\n",
       "\\item[ZL29] 15373396\n",
       "\\item[ZL3] 18538249\n",
       "\\item[ZL30] 16686732\n",
       "\\item[ZL31] 17333245\n",
       "\\item[ZL32] 17461449\n",
       "\\item[ZL33] 20139629\n",
       "\\item[ZL34] 18419072\n",
       "\\item[ZL35] 17614416\n",
       "\\item[ZL36] 18037667\n",
       "\\item[ZL37] 18063719\n",
       "\\item[ZL38] 16379553\n",
       "\\item[ZL39] 16810871\n",
       "\\item[ZL4] 17772250\n",
       "\\item[ZL40] 16684888\n",
       "\\item[ZL41] 17175856\n",
       "\\item[ZL42] 16786621\n",
       "\\item[ZL43] 18456632\n",
       "\\item[ZL44] 15725789\n",
       "\\item[ZL45] 18478699\n",
       "\\item[ZL46] 17597722\n",
       "\\item[ZL47] 22489219\n",
       "\\item[ZL48] 18929349\n",
       "\\item[ZL49] 19973911\n",
       "\\item[ZL5] 19145291\n",
       "\\item[ZL50] 17646379\n",
       "\\item[ZL51] 18946351\n",
       "\\item[ZL52] 25405795\n",
       "\\item[ZL53] 18730761\n",
       "\\item[ZL54] 18036683\n",
       "\\item[ZL55] 17511005\n",
       "\\item[ZL56] 19936843\n",
       "\\item[ZL57] 17264025\n",
       "\\item[ZL58] 18066220\n",
       "\\item[ZL59] 18827473\n",
       "\\item[ZL6] 17972017\n",
       "\\item[ZL60] 14765218\n",
       "\\item[ZL61] 17895767\n",
       "\\item[ZL62] 18539842\n",
       "\\item[ZL63] 18394938\n",
       "\\item[ZL64] 19827561\n",
       "\\item[ZL65] 18992428\n",
       "\\item[ZL66] 25390352\n",
       "\\item[ZL7] 22151397\n",
       "\\item[ZL8] 18276054\n",
       "\\item[ZL9] 21139428\n",
       "\\end{description*}\n"
      ],
      "text/markdown": [
       "ZL1\n",
       ":   27726423ZL10\n",
       ":   31694478ZL11\n",
       ":   22408610ZL12\n",
       ":   28185862ZL13\n",
       ":   24084873ZL14\n",
       ":   19427778ZL15\n",
       ":   17182182ZL16\n",
       ":   16288180ZL17\n",
       ":   19910764ZL18\n",
       ":   19824593ZL19\n",
       ":   19136715ZL2\n",
       ":   16391464ZL20\n",
       ":   17873196ZL21\n",
       ":   19964238ZL22\n",
       ":   20225688ZL23\n",
       ":   18411897ZL24\n",
       ":   19183400ZL25\n",
       ":   19106732ZL26\n",
       ":   18197668ZL27\n",
       ":   17566930ZL28\n",
       ":   18661220ZL29\n",
       ":   15373396ZL3\n",
       ":   18538249ZL30\n",
       ":   16686732ZL31\n",
       ":   17333245ZL32\n",
       ":   17461449ZL33\n",
       ":   20139629ZL34\n",
       ":   18419072ZL35\n",
       ":   17614416ZL36\n",
       ":   18037667ZL37\n",
       ":   18063719ZL38\n",
       ":   16379553ZL39\n",
       ":   16810871ZL4\n",
       ":   17772250ZL40\n",
       ":   16684888ZL41\n",
       ":   17175856ZL42\n",
       ":   16786621ZL43\n",
       ":   18456632ZL44\n",
       ":   15725789ZL45\n",
       ":   18478699ZL46\n",
       ":   17597722ZL47\n",
       ":   22489219ZL48\n",
       ":   18929349ZL49\n",
       ":   19973911ZL5\n",
       ":   19145291ZL50\n",
       ":   17646379ZL51\n",
       ":   18946351ZL52\n",
       ":   25405795ZL53\n",
       ":   18730761ZL54\n",
       ":   18036683ZL55\n",
       ":   17511005ZL56\n",
       ":   19936843ZL57\n",
       ":   17264025ZL58\n",
       ":   18066220ZL59\n",
       ":   18827473ZL6\n",
       ":   17972017ZL60\n",
       ":   14765218ZL61\n",
       ":   17895767ZL62\n",
       ":   18539842ZL63\n",
       ":   18394938ZL64\n",
       ":   19827561ZL65\n",
       ":   18992428ZL66\n",
       ":   25390352ZL7\n",
       ":   22151397ZL8\n",
       ":   18276054ZL9\n",
       ":   21139428\n",
       "\n"
      ],
      "text/plain": [
       "     ZL1     ZL10     ZL11     ZL12     ZL13     ZL14     ZL15     ZL16 \n",
       "27726423 31694478 22408610 28185862 24084873 19427778 17182182 16288180 \n",
       "    ZL17     ZL18     ZL19      ZL2     ZL20     ZL21     ZL22     ZL23 \n",
       "19910764 19824593 19136715 16391464 17873196 19964238 20225688 18411897 \n",
       "    ZL24     ZL25     ZL26     ZL27     ZL28     ZL29      ZL3     ZL30 \n",
       "19183400 19106732 18197668 17566930 18661220 15373396 18538249 16686732 \n",
       "    ZL31     ZL32     ZL33     ZL34     ZL35     ZL36     ZL37     ZL38 \n",
       "17333245 17461449 20139629 18419072 17614416 18037667 18063719 16379553 \n",
       "    ZL39      ZL4     ZL40     ZL41     ZL42     ZL43     ZL44     ZL45 \n",
       "16810871 17772250 16684888 17175856 16786621 18456632 15725789 18478699 \n",
       "    ZL46     ZL47     ZL48     ZL49      ZL5     ZL50     ZL51     ZL52 \n",
       "17597722 22489219 18929349 19973911 19145291 17646379 18946351 25405795 \n",
       "    ZL53     ZL54     ZL55     ZL56     ZL57     ZL58     ZL59      ZL6 \n",
       "18730761 18036683 17511005 19936843 17264025 18066220 18827473 17972017 \n",
       "    ZL60     ZL61     ZL62     ZL63     ZL64     ZL65     ZL66      ZL7 \n",
       "14765218 17895767 18539842 18394938 19827561 18992428 25390352 22151397 \n",
       "     ZL8      ZL9 \n",
       "18276054 21139428 "
      ]
     },
     "metadata": {},
     "output_type": "display_data"
    },
    {
     "data": {
      "text/html": [
       "<style>\n",
       ".dl-inline {width: auto; margin:0; padding: 0}\n",
       ".dl-inline>dt, .dl-inline>dd {float: none; width: auto; display: inline-block}\n",
       ".dl-inline>dt::after {content: \":\\0020\"; padding-right: .5ex}\n",
       ".dl-inline>dt:not(:first-of-type) {padding-left: .5ex}\n",
       "</style><dl class=dl-inline><dt>ZL1</dt><dd>26416907</dd><dt>ZL10</dt><dd>30258397</dd><dt>ZL11</dt><dd>21074830</dd><dt>ZL12</dt><dd>26793385</dd><dt>ZL13</dt><dd>22852309</dd><dt>ZL14</dt><dd>18348332</dd><dt>ZL15</dt><dd>16413245</dd><dt>ZL16</dt><dd>15521149</dd><dt>ZL17</dt><dd>18923278</dd><dt>ZL18</dt><dd>18752714</dd><dt>ZL19</dt><dd>18238061</dd><dt>ZL2</dt><dd>15630721</dd><dt>ZL20</dt><dd>17089854</dd><dt>ZL21</dt><dd>19044263</dd><dt>ZL22</dt><dd>19205398</dd><dt>ZL23</dt><dd>17522791</dd><dt>ZL24</dt><dd>18104026</dd><dt>ZL25</dt><dd>17806728</dd><dt>ZL26</dt><dd>17374748</dd><dt>ZL27</dt><dd>16678257</dd><dt>ZL28</dt><dd>17864452</dd><dt>ZL29</dt><dd>14679781</dd><dt>ZL3</dt><dd>17664565</dd><dt>ZL30</dt><dd>15984504</dd><dt>ZL31</dt><dd>16476456</dd><dt>ZL32</dt><dd>16623713</dd><dt>ZL33</dt><dd>19046237</dd><dt>ZL34</dt><dd>17343371</dd><dt>ZL35</dt><dd>16730957</dd><dt>ZL36</dt><dd>17068729</dd><dt>ZL37</dt><dd>17207443</dd><dt>ZL38</dt><dd>15626422</dd><dt>ZL39</dt><dd>16013739</dd><dt>ZL4</dt><dd>16888628</dd><dt>ZL40</dt><dd>15964098</dd><dt>ZL41</dt><dd>16205490</dd><dt>ZL42</dt><dd>15973247</dd><dt>ZL43</dt><dd>17432513</dd><dt>ZL44</dt><dd>14974606</dd><dt>ZL45</dt><dd>17464031</dd><dt>ZL46</dt><dd>16790363</dd><dt>ZL47</dt><dd>21425920</dd><dt>ZL48</dt><dd>18018360</dd><dt>ZL49</dt><dd>19089887</dd><dt>ZL5</dt><dd>18249553</dd><dt>ZL50</dt><dd>16859301</dd><dt>ZL51</dt><dd>18059223</dd><dt>ZL52</dt><dd>24237863</dd><dt>ZL53</dt><dd>17813726</dd><dt>ZL54</dt><dd>16992587</dd><dt>ZL55</dt><dd>16669590</dd><dt>ZL56</dt><dd>18551563</dd><dt>ZL57</dt><dd>16009044</dd><dt>ZL58</dt><dd>17174206</dd><dt>ZL59</dt><dd>17951289</dd><dt>ZL6</dt><dd>17182272</dd><dt>ZL60</dt><dd>14175823</dd><dt>ZL61</dt><dd>17110665</dd><dt>ZL62</dt><dd>17754010</dd><dt>ZL63</dt><dd>17246410</dd><dt>ZL64</dt><dd>18657036</dd><dt>ZL65</dt><dd>18066442</dd><dt>ZL66</dt><dd>24183809</dd><dt>ZL7</dt><dd>21148517</dd><dt>ZL8</dt><dd>17457467</dd><dt>ZL9</dt><dd>20158326</dd></dl>\n"
      ],
      "text/latex": [
       "\\begin{description*}\n",
       "\\item[ZL1] 26416907\n",
       "\\item[ZL10] 30258397\n",
       "\\item[ZL11] 21074830\n",
       "\\item[ZL12] 26793385\n",
       "\\item[ZL13] 22852309\n",
       "\\item[ZL14] 18348332\n",
       "\\item[ZL15] 16413245\n",
       "\\item[ZL16] 15521149\n",
       "\\item[ZL17] 18923278\n",
       "\\item[ZL18] 18752714\n",
       "\\item[ZL19] 18238061\n",
       "\\item[ZL2] 15630721\n",
       "\\item[ZL20] 17089854\n",
       "\\item[ZL21] 19044263\n",
       "\\item[ZL22] 19205398\n",
       "\\item[ZL23] 17522791\n",
       "\\item[ZL24] 18104026\n",
       "\\item[ZL25] 17806728\n",
       "\\item[ZL26] 17374748\n",
       "\\item[ZL27] 16678257\n",
       "\\item[ZL28] 17864452\n",
       "\\item[ZL29] 14679781\n",
       "\\item[ZL3] 17664565\n",
       "\\item[ZL30] 15984504\n",
       "\\item[ZL31] 16476456\n",
       "\\item[ZL32] 16623713\n",
       "\\item[ZL33] 19046237\n",
       "\\item[ZL34] 17343371\n",
       "\\item[ZL35] 16730957\n",
       "\\item[ZL36] 17068729\n",
       "\\item[ZL37] 17207443\n",
       "\\item[ZL38] 15626422\n",
       "\\item[ZL39] 16013739\n",
       "\\item[ZL4] 16888628\n",
       "\\item[ZL40] 15964098\n",
       "\\item[ZL41] 16205490\n",
       "\\item[ZL42] 15973247\n",
       "\\item[ZL43] 17432513\n",
       "\\item[ZL44] 14974606\n",
       "\\item[ZL45] 17464031\n",
       "\\item[ZL46] 16790363\n",
       "\\item[ZL47] 21425920\n",
       "\\item[ZL48] 18018360\n",
       "\\item[ZL49] 19089887\n",
       "\\item[ZL5] 18249553\n",
       "\\item[ZL50] 16859301\n",
       "\\item[ZL51] 18059223\n",
       "\\item[ZL52] 24237863\n",
       "\\item[ZL53] 17813726\n",
       "\\item[ZL54] 16992587\n",
       "\\item[ZL55] 16669590\n",
       "\\item[ZL56] 18551563\n",
       "\\item[ZL57] 16009044\n",
       "\\item[ZL58] 17174206\n",
       "\\item[ZL59] 17951289\n",
       "\\item[ZL6] 17182272\n",
       "\\item[ZL60] 14175823\n",
       "\\item[ZL61] 17110665\n",
       "\\item[ZL62] 17754010\n",
       "\\item[ZL63] 17246410\n",
       "\\item[ZL64] 18657036\n",
       "\\item[ZL65] 18066442\n",
       "\\item[ZL66] 24183809\n",
       "\\item[ZL7] 21148517\n",
       "\\item[ZL8] 17457467\n",
       "\\item[ZL9] 20158326\n",
       "\\end{description*}\n"
      ],
      "text/markdown": [
       "ZL1\n",
       ":   26416907ZL10\n",
       ":   30258397ZL11\n",
       ":   21074830ZL12\n",
       ":   26793385ZL13\n",
       ":   22852309ZL14\n",
       ":   18348332ZL15\n",
       ":   16413245ZL16\n",
       ":   15521149ZL17\n",
       ":   18923278ZL18\n",
       ":   18752714ZL19\n",
       ":   18238061ZL2\n",
       ":   15630721ZL20\n",
       ":   17089854ZL21\n",
       ":   19044263ZL22\n",
       ":   19205398ZL23\n",
       ":   17522791ZL24\n",
       ":   18104026ZL25\n",
       ":   17806728ZL26\n",
       ":   17374748ZL27\n",
       ":   16678257ZL28\n",
       ":   17864452ZL29\n",
       ":   14679781ZL3\n",
       ":   17664565ZL30\n",
       ":   15984504ZL31\n",
       ":   16476456ZL32\n",
       ":   16623713ZL33\n",
       ":   19046237ZL34\n",
       ":   17343371ZL35\n",
       ":   16730957ZL36\n",
       ":   17068729ZL37\n",
       ":   17207443ZL38\n",
       ":   15626422ZL39\n",
       ":   16013739ZL4\n",
       ":   16888628ZL40\n",
       ":   15964098ZL41\n",
       ":   16205490ZL42\n",
       ":   15973247ZL43\n",
       ":   17432513ZL44\n",
       ":   14974606ZL45\n",
       ":   17464031ZL46\n",
       ":   16790363ZL47\n",
       ":   21425920ZL48\n",
       ":   18018360ZL49\n",
       ":   19089887ZL5\n",
       ":   18249553ZL50\n",
       ":   16859301ZL51\n",
       ":   18059223ZL52\n",
       ":   24237863ZL53\n",
       ":   17813726ZL54\n",
       ":   16992587ZL55\n",
       ":   16669590ZL56\n",
       ":   18551563ZL57\n",
       ":   16009044ZL58\n",
       ":   17174206ZL59\n",
       ":   17951289ZL6\n",
       ":   17182272ZL60\n",
       ":   14175823ZL61\n",
       ":   17110665ZL62\n",
       ":   17754010ZL63\n",
       ":   17246410ZL64\n",
       ":   18657036ZL65\n",
       ":   18066442ZL66\n",
       ":   24183809ZL7\n",
       ":   21148517ZL8\n",
       ":   17457467ZL9\n",
       ":   20158326\n",
       "\n"
      ],
      "text/plain": [
       "     ZL1     ZL10     ZL11     ZL12     ZL13     ZL14     ZL15     ZL16 \n",
       "26416907 30258397 21074830 26793385 22852309 18348332 16413245 15521149 \n",
       "    ZL17     ZL18     ZL19      ZL2     ZL20     ZL21     ZL22     ZL23 \n",
       "18923278 18752714 18238061 15630721 17089854 19044263 19205398 17522791 \n",
       "    ZL24     ZL25     ZL26     ZL27     ZL28     ZL29      ZL3     ZL30 \n",
       "18104026 17806728 17374748 16678257 17864452 14679781 17664565 15984504 \n",
       "    ZL31     ZL32     ZL33     ZL34     ZL35     ZL36     ZL37     ZL38 \n",
       "16476456 16623713 19046237 17343371 16730957 17068729 17207443 15626422 \n",
       "    ZL39      ZL4     ZL40     ZL41     ZL42     ZL43     ZL44     ZL45 \n",
       "16013739 16888628 15964098 16205490 15973247 17432513 14974606 17464031 \n",
       "    ZL46     ZL47     ZL48     ZL49      ZL5     ZL50     ZL51     ZL52 \n",
       "16790363 21425920 18018360 19089887 18249553 16859301 18059223 24237863 \n",
       "    ZL53     ZL54     ZL55     ZL56     ZL57     ZL58     ZL59      ZL6 \n",
       "17813726 16992587 16669590 18551563 16009044 17174206 17951289 17182272 \n",
       "    ZL60     ZL61     ZL62     ZL63     ZL64     ZL65     ZL66      ZL7 \n",
       "14175823 17110665 17754010 17246410 18657036 18066442 24183809 21148517 \n",
       "     ZL8      ZL9 \n",
       "17457467 20158326 "
      ]
     },
     "metadata": {},
     "output_type": "display_data"
    }
   ],
   "source": [
    "######  all figure in a paper order\n",
    "setwd(\"F:/R file/DaiLab/wangying/FMT_project\")\n",
    "####### change the tree file , and use rbiom::unifrac to replace the phyloseq\n",
    "## change color from red to orange.\n",
    "\n",
    "file_name=\"figure_20210415\"\n",
    "\n",
    "#### rna---------\n",
    "\n",
    "# setwd(\"F:/R file/DaiLab/wangying/rna_seq\")\n",
    "library(\"GenomicAlignments\")\n",
    "library(dplyr)\n",
    "\n",
    "### import data for rna ------\n",
    "counts <- read.csv(\"F:/R file/DaiLab/wangying/FMT_project/rna_seq/all_counts.csv\",row.names = 1)\n",
    "colSums(counts)\n",
    "\n",
    "## filter some of the gene id, which is not necessary,\n",
    "filter_counts =read.csv(\"F:/R file/DaiLab/wangying/FMT_project/rna_seq/rna_filter.csv\")\n",
    "\n",
    "\n",
    "counts=counts[setdiff(rownames(counts),filter_counts$id),]\n",
    "counts=counts[is.na(str_match(rownames(counts),\".*Rik|Gm.*|.*-ps.*|Ig*\")),]\n",
    "\n",
    "colSums(counts)\n",
    "\n",
    "######## filter the genes with less than 5 reads in at least one sample\n",
    "counts=counts[rowSums(counts>5)>1,]\n",
    "\n",
    "# rowSums(counts>5)\n",
    "\n",
    "colnames(counts)<- sapply(str_split(colnames(counts),\"_\"),\"[\",1 )\n",
    "\n",
    "meta <- read.csv(\"F:/R file/DaiLab/wangying/FMT_project/rna_seq/metadata.csv\",row.names = 1)\n",
    "\n",
    "meta$mix <- paste(meta$treatment,meta$treatment_time,sep = \"-\")\n",
    "\n",
    "meta=meta[-which(rownames(meta) %in% c(\"ZL30\",\"ZL28\")),]"
   ]
  },
  {
   "cell_type": "code",
   "execution_count": 25,
   "metadata": {},
   "outputs": [
    {
     "name": "stderr",
     "output_type": "stream",
     "text": [
      "Joining, by = \"id\"\n",
      "\n",
      "Joining, by = \"id\"\n",
      "\n",
      "Joining, by = \"id\"\n",
      "\n"
     ]
    },
    {
     "data": {
      "image/png": "[encoded data removed]",
      "text/plain": [
       "plot without title"
      ]
     },
     "metadata": {
      "image/png": {
       "height": 420,
       "width": 420
      }
     },
     "output_type": "display_data"
    }
   ],
   "source": [
    "###### based on pvalue, not the padj\n",
    "\n",
    "load(paste(file_name,\"/DEG_data0415.RData\",sep = \"\"))\n",
    "\n",
    "h=DEG_res$`gut-18-56`\n",
    "\n",
    "\n",
    "p_threshold=0.05\n",
    "\n",
    "upset_df=upset_get(DEG_res,pvar = \"pvalue\",p_threshold = p_threshold)\n",
    "\n",
    "upset_df1=upset_df[,!is.na(str_match(colnames(upset_df),\"18\"))]\n",
    "upset_df1=upset_df1[,c(\"gut-18-1\",\"gut-18-56\",\"gut-18-OO\",\"gut-18-YO\")]\n",
    "\n",
    "p=  UpSetR::upset(upset_df1,nsets = 10,nintersects = 60,\n",
    "                  keep.order = T,sets = rev(c(\"gut-18-1\",\"gut-18-56\",\"gut-18-OO\",\"gut-18-YO\")),\n",
    "                  mainbar.y.label = paste(\"18-month DEG Intersection Size padj <\",p_threshold),\n",
    "                  sets.x.label = \"DEG Set Size\", set_size.show = T,\n",
    "                  text.scale = c(2,2,2,2,2,2),\n",
    "                  set_size.scale_max = max(colSums(upset_df1))+200,\n",
    "                  decreasing = c(FALSE,FALSE))\n",
    "p\n"
   ]
  },
  {
   "cell_type": "markdown",
   "metadata": {},
   "source": [
    "## DEGs analysis and heatmap"
   ]
  },
  {
   "cell_type": "code",
   "execution_count": 27,
   "metadata": {},
   "outputs": [
    {
     "data": {
      "text/html": [
       "2.70835159508697"
      ],
      "text/latex": [
       "2.70835159508697"
      ],
      "text/markdown": [
       "2.70835159508697"
      ],
      "text/plain": [
       "[1] 2.708352"
      ]
     },
     "metadata": {},
     "output_type": "display_data"
    },
    {
     "data": {
      "image/png": "[encoded data removed]",
      "text/plain": [
       "plot without title"
      ]
     },
     "metadata": {
      "image/png": {
       "height": 420,
       "width": 420
      }
     },
     "output_type": "display_data"
    }
   ],
   "source": [
    "### DEGs analysis -----------\n",
    "\n",
    "load(paste(file_name,\"/DEG_data0415.RData\",sep = \"\"))\n",
    "\n",
    "\n",
    "### select pvalue <0.05\n",
    "h=DEG_res$`gut-18-1`\n",
    "\n",
    "rna_high1_ctrl=DEG_res$`gut-18-1` \n",
    "sum(rna_high1_ctrl$pvalue)\n",
    "# rna_high1_ctrl1 <- rna_high1_ctrl[rna_high1_ctrl$pvalue<0.05,]\n",
    "\n",
    "rna_high1_ctrl1 <- arrange(rna_high1_ctrl,pvalue) %>% head(.,n=30)\n",
    "\n",
    "## fold change\n",
    "rna_high1_ctrl1 <- arrange(rna_high1_ctrl,log2FoldChange)\n",
    "\n",
    "rna_high1_ctrl1= rbind(head(rna_high1_ctrl1,n=20),\n",
    "                       tail(rna_high1_ctrl1,n=20))\n",
    "\n",
    "meta_1=meta\n",
    "meta_1$mix = paste(meta$donor2acceptor,meta$treatment_time,sep = \"-\")\n",
    "\n",
    "meta2=sub_select(meta_1,var1=\"mix\",var1_sub = c(\"O0-1\",\"O2-1\",\"O2-56\",\"OO-56\",\"YO-56\"))\n",
    "\n",
    "\n",
    "\n",
    "\n",
    "\n",
    "\n",
    "\n",
    "#######* plot the heatmap based on DEG from ctrl and high day 1 in all groups-------\n",
    "\n",
    "p=pheatmap_plot(counts=counts,meta2,DEG=rna_high1_ctrl1,cluster_cols = FALSE, \n",
    "                # scale=\"none\",\n",
    "                title_name = paste(\"pvalue < 0.05\",\"RNA DEG based on 18_ctrl1-high1\"),Annotation = TRUE,\n",
    "                row_colors = color_db[c(\"O0\",\"O2\",\"O3\",\"OO\",\"YO\"),\"value\"])\n",
    "\n",
    "p"
   ]
  },
  {
   "cell_type": "markdown",
   "metadata": {},
   "source": [
    "## volcano plot"
   ]
  },
  {
   "cell_type": "code",
   "execution_count": 28,
   "metadata": {},
   "outputs": [
    {
     "data": {
      "image/png": "[encoded data removed]",
      "text/plain": [
       "plot without title"
      ]
     },
     "metadata": {
      "image/png": {
       "height": 420,
       "width": 420
      }
     },
     "output_type": "display_data"
    }
   ],
   "source": [
    "######## volcano ---------\n",
    "###* FDR  p < 0.01 as the heatmap--------\n",
    "load(paste(file_name,\"/DEG_data_all0415.RData\",sep = \"\"))\n",
    "\n",
    "\n",
    "\n",
    "padj=0.01\n",
    "i=1\n",
    "\n",
    "DEG_df=DEG_res_all[[i]]\n",
    "  \n",
    "DEG_df1=DEG_df[is.na(str_match(DEG_df$id,\"^[0-9]+\")),]\n",
    "  \n",
    "p=plot_volcano(df=DEG_df1,y = \"padj\",y_threshold=padj,log2FoldChange_threshold=3 )+\n",
    "    labs(title=names(DEG_res_all[i]))+xlim(-6,6)\n",
    "  \n",
    "\n",
    "p"
   ]
  },
  {
   "cell_type": "markdown",
   "metadata": {},
   "source": [
    "# venn plot"
   ]
  },
  {
   "cell_type": "code",
   "execution_count": null,
   "metadata": {},
   "outputs": [],
   "source": [
    "########* gene venn ---------\n",
    "\n",
    "library(VennDiagram)\n",
    "\n",
    "load(paste(file_name,\"/DEG_data0415.RData\",sep = \"\"))\n",
    "### set padj for small numbers of DEGs\n",
    "p_threshold=0.05\n",
    "pvar = \"pvalue\"\n",
    "upset_df=upset_get(DEG_res,pvar = pvar,p_threshold = p_threshold)\n",
    "\n",
    "# write.csv(upset_df,paste(file_name,\"/venn_data.csv\",sep = \"\"))\n",
    "\n",
    "\n",
    "\n",
    "\n",
    "venn.diagram(\n",
    "  x=list(\"gut-20-56\"=as.vector(venn_df$`gut-18-56`),\n",
    "         \"gut-20-OO\"=as.vector(venn_df$`gut-18-OO`),\n",
    "         \"gut-20-YO\"=as.vector(venn_df$`gut-18-YO`)),\n",
    "  fill=c(color_db[c(\"OO_DSS\",\"OO\",\"YO\"),\"value\"]),\n",
    "  alpha=0.5,\n",
    "  filename=paste(file_name,\"/20 months gut only three venn,\",pvar,\"-\",p_threshold,\".png\",sep = \"\"))\n"
   ]
  }
 ],
 "metadata": {
  "kernelspec": {
   "display_name": "R",
   "language": "R",
   "name": "ir"
  },
  "language_info": {
   "codemirror_mode": "r",
   "file_extension": ".r",
   "mimetype": "text/x-r-source",
   "name": "R",
   "pygments_lexer": "r",
   "version": "3.6.1"
  },
  "toc": {
   "base_numbering": 1,
   "nav_menu": {},
   "number_sections": true,
   "sideBar": true,
   "skip_h1_title": false,
   "title_cell": "Table of Contents",
   "title_sidebar": "Contents",
   "toc_cell": false,
   "toc_position": {
    "height": "calc(100% - 180px)",
    "left": "10px",
    "top": "150px",
    "width": "303.542px"
   },
   "toc_section_display": true,
   "toc_window_display": true
  }
 },
 "nbformat": 4,
 "nbformat_minor": 4
}
